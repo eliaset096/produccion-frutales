{
 "cells": [
  {
   "cell_type": "code",
   "execution_count": 1,
   "id": "3a6e82ab",
   "metadata": {},
   "outputs": [],
   "source": [
    "import pandas as pd"
   ]
  },
  {
   "cell_type": "code",
   "execution_count": 2,
   "id": "a4e56d73",
   "metadata": {},
   "outputs": [
    {
     "ename": "ModuleNotFoundError",
     "evalue": "No module named 'sklearn'",
     "output_type": "error",
     "traceback": [
      "\u001b[1;31m---------------------------------------------------------------------------\u001b[0m",
      "\u001b[1;31mModuleNotFoundError\u001b[0m                       Traceback (most recent call last)",
      "Cell \u001b[1;32mIn[2], line 4\u001b[0m\n\u001b[0;32m      1\u001b[0m \u001b[39mimport\u001b[39;00m \u001b[39mmatplotlib\u001b[39;00m\u001b[39m.\u001b[39;00m\u001b[39mpyplot\u001b[39;00m \u001b[39mas\u001b[39;00m \u001b[39mplt\u001b[39;00m\n\u001b[0;32m      3\u001b[0m \u001b[39mimport\u001b[39;00m \u001b[39mseaborn\u001b[39;00m \u001b[39mas\u001b[39;00m \u001b[39msns\u001b[39;00m\n\u001b[1;32m----> 4\u001b[0m \u001b[39mimport\u001b[39;00m \u001b[39msklearn\u001b[39;00m \n\u001b[0;32m      5\u001b[0m \u001b[39mimport\u001b[39;00m \u001b[39mnumpy\u001b[39;00m \u001b[39mas\u001b[39;00m \u001b[39mnp\u001b[39;00m\n",
      "\u001b[1;31mModuleNotFoundError\u001b[0m: No module named 'sklearn'"
     ]
    }
   ],
   "source": [
    "import matplotlib.pyplot as plt\n",
    "\n",
    "import seaborn as sns\n",
    "import sklearn \n",
    "import numpy as np\n",
    " "
   ]
  },
  {
   "cell_type": "code",
   "execution_count": null,
   "id": "fe697c7f",
   "metadata": {},
   "outputs": [],
   "source": [
    "data = pd.read_csv('ModalidadVirtual.csv')"
   ]
  },
  {
   "cell_type": "markdown",
   "id": "3fdc6432",
   "metadata": {},
   "source": [
    "# CONTEXTO\n",
    "La Universidad Pública de El Alto ubicada en La Paz-Bolivia decidió realizar una encuesta, en la que quiere saber si sus estudiantes aceptan la modalidad virtual y si estarían de acuerdo en habilitar cursos virtuales permanentes."
   ]
  },
  {
   "cell_type": "markdown",
   "id": "80b16ac1",
   "metadata": {},
   "source": [
    "## Contenido\n",
    "1.\thora -> fecha en que el estudiante toma la encuesta.\n",
    "2.\tcarrera -> carrera a la que pertenece\n",
    "3.\tacepta -> (Si) si el alumno acepta la modalidad virtual, (No) si la rechaza.\n",
    "4.\tpositivo -> Ventajas de estudiar virtualmente.\n",
    "5.\tnegativo -> desventajas de estudiar virtualmente.\n",
    "6.\tedad -> edad del estudiante\n",
    "7.\tsexo -> género del estudiante.\n",
    "8.\ttrabajo -> si el alumno trabaja\n"
   ]
  },
  {
   "cell_type": "markdown",
   "id": "0983ecfe",
   "metadata": {},
   "source": [
    "# ¿Qué debe de contener el ejercicio?"
   ]
  },
  {
   "cell_type": "markdown",
   "id": "c1837112",
   "metadata": {},
   "source": [
    "### 1 Descripción previa de los datos (Nombre de columnas, presentación de las variables categóricas, Fecha, Nominales, Cantidad de datos del Dataset, Cantidad de Nulos etc"
   ]
  },
  {
   "cell_type": "code",
   "execution_count": null,
   "id": "d5ff8ada",
   "metadata": {},
   "outputs": [
    {
     "data": {
      "text/html": [
       "<div>\n",
       "<style scoped>\n",
       "    .dataframe tbody tr th:only-of-type {\n",
       "        vertical-align: middle;\n",
       "    }\n",
       "\n",
       "    .dataframe tbody tr th {\n",
       "        vertical-align: top;\n",
       "    }\n",
       "\n",
       "    .dataframe thead th {\n",
       "        text-align: right;\n",
       "    }\n",
       "</style>\n",
       "<table border=\"1\" class=\"dataframe\">\n",
       "  <thead>\n",
       "    <tr style=\"text-align: right;\">\n",
       "      <th></th>\n",
       "      <th>Unnamed: 0</th>\n",
       "      <th>time</th>\n",
       "      <th>carrera</th>\n",
       "      <th>acepta</th>\n",
       "      <th>positivo</th>\n",
       "      <th>negativo</th>\n",
       "      <th>edad</th>\n",
       "      <th>sexo</th>\n",
       "      <th>trabajo</th>\n",
       "    </tr>\n",
       "  </thead>\n",
       "  <tbody>\n",
       "    <tr>\n",
       "      <th>0</th>\n",
       "      <td>0</td>\n",
       "      <td>2020-11-08</td>\n",
       "      <td>Ingeniería de Sistemas</td>\n",
       "      <td>Si</td>\n",
       "      <td>Horario flexible.</td>\n",
       "      <td>Contacto Personal Docente-Estudiantil.</td>\n",
       "      <td>20</td>\n",
       "      <td>Hombre</td>\n",
       "      <td>Eventual</td>\n",
       "    </tr>\n",
       "    <tr>\n",
       "      <th>1</th>\n",
       "      <td>1</td>\n",
       "      <td>2020-11-08</td>\n",
       "      <td>Psicología</td>\n",
       "      <td>Si</td>\n",
       "      <td>Acceso desde cualquier lugar.</td>\n",
       "      <td>Contacto Personal Docente-Estudiantil.</td>\n",
       "      <td>26</td>\n",
       "      <td>Hombre</td>\n",
       "      <td>Eventual</td>\n",
       "    </tr>\n",
       "    <tr>\n",
       "      <th>2</th>\n",
       "      <td>2</td>\n",
       "      <td>2020-11-08</td>\n",
       "      <td>Ingeniería de Sistemas</td>\n",
       "      <td>Si</td>\n",
       "      <td>Horario flexible.</td>\n",
       "      <td>Falta de recursos de calidad(plataformas, doce...</td>\n",
       "      <td>20</td>\n",
       "      <td>Mujer</td>\n",
       "      <td>Sí</td>\n",
       "    </tr>\n",
       "    <tr>\n",
       "      <th>3</th>\n",
       "      <td>3</td>\n",
       "      <td>2020-11-08</td>\n",
       "      <td>Ingeniería de Sistemas</td>\n",
       "      <td>Si</td>\n",
       "      <td>Horario flexible.</td>\n",
       "      <td>Conexión a internet.</td>\n",
       "      <td>18</td>\n",
       "      <td>Mujer</td>\n",
       "      <td>No</td>\n",
       "    </tr>\n",
       "    <tr>\n",
       "      <th>4</th>\n",
       "      <td>4</td>\n",
       "      <td>2020-11-08</td>\n",
       "      <td>Ingeniería de Sistemas</td>\n",
       "      <td>Si</td>\n",
       "      <td>Acceso desde cualquier lugar.</td>\n",
       "      <td>Contacto Personal Docente-Estudiantil.</td>\n",
       "      <td>39</td>\n",
       "      <td>Hombre</td>\n",
       "      <td>Sí</td>\n",
       "    </tr>\n",
       "    <tr>\n",
       "      <th>...</th>\n",
       "      <td>...</td>\n",
       "      <td>...</td>\n",
       "      <td>...</td>\n",
       "      <td>...</td>\n",
       "      <td>...</td>\n",
       "      <td>...</td>\n",
       "      <td>...</td>\n",
       "      <td>...</td>\n",
       "      <td>...</td>\n",
       "    </tr>\n",
       "    <tr>\n",
       "      <th>217</th>\n",
       "      <td>230</td>\n",
       "      <td>2020-12-10</td>\n",
       "      <td>Gestión Turística y Hotelera</td>\n",
       "      <td>Si</td>\n",
       "      <td>Horario flexible.</td>\n",
       "      <td>Conexión a internet.</td>\n",
       "      <td>19</td>\n",
       "      <td>Mujer</td>\n",
       "      <td>Sí</td>\n",
       "    </tr>\n",
       "    <tr>\n",
       "      <th>218</th>\n",
       "      <td>231</td>\n",
       "      <td>2020-12-11</td>\n",
       "      <td>Ingeniería de Sistemas</td>\n",
       "      <td>No</td>\n",
       "      <td>Acceso desde cualquier lugar.</td>\n",
       "      <td>Falta de recursos de calidad(plataformas, doce...</td>\n",
       "      <td>23</td>\n",
       "      <td>Mujer</td>\n",
       "      <td>No</td>\n",
       "    </tr>\n",
       "    <tr>\n",
       "      <th>219</th>\n",
       "      <td>232</td>\n",
       "      <td>2020-12-11</td>\n",
       "      <td>Gestión Turística y Hotelera</td>\n",
       "      <td>No</td>\n",
       "      <td>Horario flexible.</td>\n",
       "      <td>Falta de recursos de calidad(plataformas, doce...</td>\n",
       "      <td>25</td>\n",
       "      <td>Hombre</td>\n",
       "      <td>Sí</td>\n",
       "    </tr>\n",
       "    <tr>\n",
       "      <th>220</th>\n",
       "      <td>233</td>\n",
       "      <td>2020-12-11</td>\n",
       "      <td>Ingeniería Agronómica</td>\n",
       "      <td>Si</td>\n",
       "      <td>Acceso desde cualquier lugar.</td>\n",
       "      <td>Contacto Personal Docente-Estudiantil.</td>\n",
       "      <td>20</td>\n",
       "      <td>Mujer</td>\n",
       "      <td>Sí</td>\n",
       "    </tr>\n",
       "    <tr>\n",
       "      <th>221</th>\n",
       "      <td>234</td>\n",
       "      <td>2020-12-12</td>\n",
       "      <td>Comercio Internacional</td>\n",
       "      <td>Si</td>\n",
       "      <td>Horario flexible.</td>\n",
       "      <td>Falta de recursos de calidad(plataformas, doce...</td>\n",
       "      <td>23</td>\n",
       "      <td>Hombre</td>\n",
       "      <td>Sí</td>\n",
       "    </tr>\n",
       "  </tbody>\n",
       "</table>\n",
       "<p>222 rows × 9 columns</p>\n",
       "</div>"
      ],
      "text/plain": [
       "     Unnamed: 0        time                       carrera acepta  \\\n",
       "0             0  2020-11-08        Ingeniería de Sistemas     Si   \n",
       "1             1  2020-11-08                    Psicología     Si   \n",
       "2             2  2020-11-08        Ingeniería de Sistemas     Si   \n",
       "3             3  2020-11-08        Ingeniería de Sistemas     Si   \n",
       "4             4  2020-11-08        Ingeniería de Sistemas     Si   \n",
       "..          ...         ...                           ...    ...   \n",
       "217         230  2020-12-10  Gestión Turística y Hotelera     Si   \n",
       "218         231  2020-12-11        Ingeniería de Sistemas     No   \n",
       "219         232  2020-12-11  Gestión Turística y Hotelera     No   \n",
       "220         233  2020-12-11         Ingeniería Agronómica     Si   \n",
       "221         234  2020-12-12        Comercio Internacional     Si   \n",
       "\n",
       "                          positivo  \\\n",
       "0                Horario flexible.   \n",
       "1    Acceso desde cualquier lugar.   \n",
       "2                Horario flexible.   \n",
       "3                Horario flexible.   \n",
       "4    Acceso desde cualquier lugar.   \n",
       "..                             ...   \n",
       "217              Horario flexible.   \n",
       "218  Acceso desde cualquier lugar.   \n",
       "219              Horario flexible.   \n",
       "220  Acceso desde cualquier lugar.   \n",
       "221              Horario flexible.   \n",
       "\n",
       "                                              negativo  edad    sexo   trabajo  \n",
       "0               Contacto Personal Docente-Estudiantil.    20  Hombre  Eventual  \n",
       "1               Contacto Personal Docente-Estudiantil.    26  Hombre  Eventual  \n",
       "2    Falta de recursos de calidad(plataformas, doce...    20   Mujer        Sí  \n",
       "3                                 Conexión a internet.    18   Mujer        No  \n",
       "4               Contacto Personal Docente-Estudiantil.    39  Hombre        Sí  \n",
       "..                                                 ...   ...     ...       ...  \n",
       "217                               Conexión a internet.    19   Mujer        Sí  \n",
       "218  Falta de recursos de calidad(plataformas, doce...    23   Mujer        No  \n",
       "219  Falta de recursos de calidad(plataformas, doce...    25  Hombre        Sí  \n",
       "220             Contacto Personal Docente-Estudiantil.    20   Mujer        Sí  \n",
       "221  Falta de recursos de calidad(plataformas, doce...    23  Hombre        Sí  \n",
       "\n",
       "[222 rows x 9 columns]"
      ]
     },
     "execution_count": 10,
     "metadata": {},
     "output_type": "execute_result"
    }
   ],
   "source": [
    "data"
   ]
  },
  {
   "cell_type": "code",
   "execution_count": null,
   "id": "837b8ce0",
   "metadata": {},
   "outputs": [
    {
     "data": {
      "text/plain": [
       "pandas.core.frame.DataFrame"
      ]
     },
     "execution_count": 11,
     "metadata": {},
     "output_type": "execute_result"
    }
   ],
   "source": [
    "type(data)"
   ]
  },
  {
   "cell_type": "code",
   "execution_count": null,
   "id": "a10e96d8",
   "metadata": {},
   "outputs": [
    {
     "data": {
      "text/plain": [
       "222"
      ]
     },
     "execution_count": 12,
     "metadata": {},
     "output_type": "execute_result"
    }
   ],
   "source": [
    "len(data)"
   ]
  },
  {
   "cell_type": "code",
   "execution_count": null,
   "id": "c1eae4d3",
   "metadata": {},
   "outputs": [
    {
     "data": {
      "text/plain": [
       "Index(['Unnamed: 0', 'time', 'carrera', 'acepta', 'positivo', 'negativo',\n",
       "       'edad', 'sexo', 'trabajo'],\n",
       "      dtype='object')"
      ]
     },
     "execution_count": 13,
     "metadata": {},
     "output_type": "execute_result"
    }
   ],
   "source": [
    "data.columns #las columnas"
   ]
  },
  {
   "cell_type": "code",
   "execution_count": null,
   "id": "b1e4f3c1",
   "metadata": {},
   "outputs": [
    {
     "data": {
      "text/plain": [
       "(222, 9)"
      ]
     },
     "execution_count": 23,
     "metadata": {},
     "output_type": "execute_result"
    }
   ],
   "source": [
    "data.shape # se muestra el numero y filas y columnas del daset"
   ]
  },
  {
   "cell_type": "code",
   "execution_count": null,
   "id": "03a1591a",
   "metadata": {},
   "outputs": [
    {
     "data": {
      "text/plain": [
       "Ingeniería de Sistemas                      56\n",
       "Derecho                                     33\n",
       "Otra                                        26\n",
       "Ciencias de la Educación                    13\n",
       "Contaduría Pública                          13\n",
       "Psicología                                  13\n",
       "Trabajo Social                               8\n",
       "Lingüística e Idiomas                        8\n",
       "Administración de Empresas                   8\n",
       "Ciencias Físicas y Energías Alternativas     8\n",
       "Comercio Internacional                       7\n",
       "Ingeniería Agronómica                        6\n",
       "Gestión Turística y Hotelera                 5\n",
       "Economía                                     4\n",
       "Artes Plásticas                              3\n",
       "Ciencias Políticas                           3\n",
       "Educación Parvularia                         3\n",
       "Historia                                     2\n",
       "Nutrición y Dietética                        2\n",
       "Sociología                                   1\n",
       "Name: carrera, dtype: int64"
      ]
     },
     "execution_count": 44,
     "metadata": {},
     "output_type": "execute_result"
    }
   ],
   "source": [
    "data['carrera'].value_counts()"
   ]
  },
  {
   "cell_type": "code",
   "execution_count": null,
   "id": "2c39de84",
   "metadata": {},
   "outputs": [
    {
     "data": {
      "text/plain": [
       "Sí          152\n",
       "Eventual     53\n",
       "No           17\n",
       "Name: trabajo, dtype: int64"
      ]
     },
     "execution_count": 229,
     "metadata": {},
     "output_type": "execute_result"
    }
   ],
   "source": [
    "data['trabajo'].value_counts()# Cuantos registros tenemos por categoria de la columna 'trabajo ' "
   ]
  },
  {
   "cell_type": "markdown",
   "id": "301cdcc1",
   "metadata": {},
   "source": [
    "# Veamos las variables categoricas y numericas"
   ]
  },
  {
   "cell_type": "code",
   "execution_count": null,
   "id": "edfab7dd",
   "metadata": {},
   "outputs": [
    {
     "name": "stdout",
     "output_type": "stream",
     "text": [
      "<class 'pandas.core.frame.DataFrame'>\n",
      "RangeIndex: 222 entries, 0 to 221\n",
      "Data columns (total 9 columns):\n",
      " #   Column      Non-Null Count  Dtype \n",
      "---  ------      --------------  ----- \n",
      " 0   Unnamed: 0  222 non-null    int64 \n",
      " 1   time        222 non-null    object\n",
      " 2   carrera     222 non-null    object\n",
      " 3   acepta      222 non-null    object\n",
      " 4   positivo    222 non-null    object\n",
      " 5   negativo    222 non-null    object\n",
      " 6   edad        222 non-null    int64 \n",
      " 7   sexo        222 non-null    object\n",
      " 8   trabajo     222 non-null    object\n",
      "dtypes: int64(2), object(7)\n",
      "memory usage: 15.7+ KB\n"
     ]
    }
   ],
   "source": [
    "data.info()"
   ]
  },
  {
   "cell_type": "markdown",
   "id": "49e6f3af",
   "metadata": {},
   "source": [
    "por ejemplo la variable edad es una variable numerica por que es un entero int64 y las otras categoricas porque es de tipo object"
   ]
  },
  {
   "cell_type": "code",
   "execution_count": null,
   "id": "d40035ce",
   "metadata": {},
   "outputs": [],
   "source": [
    "##proceso de limpieza"
   ]
  },
  {
   "cell_type": "markdown",
   "id": "0273f657",
   "metadata": {},
   "source": [
    "1. Datos faltantantes en algunas celdas: se refiere que alguna celda este vacias\n",
    "2.Columnas irrelevantes(que no corresponden al problema que queremos resolver)\n",
    "3. Registros(filas) repetidos\n",
    "4. Valores extremos(outliers) en el caso de las variables numericas.Se deben analizar en detalle pues no necesariamente las solucion es eliminarlos.\n",
    "5. Errores tipograficios en el caso de las variables categoricas.\n",
    "Al final de este proceso de limpieza deberiamos tener un set de datos integro, listo para la fase de Análisis\n",
    "Estos cinco elementos son los que vamos a tener en el proceso de limpieza"
   ]
  },
  {
   "cell_type": "markdown",
   "id": "8ff45fa6",
   "metadata": {},
   "source": [
    "4.1 DATOS FALTANTES"
   ]
  },
  {
   "cell_type": "markdown",
   "id": "cc639ccd",
   "metadata": {},
   "source": [
    "Aca comenzaremos haber los datos que no estan completos,\n",
    "el numero total de los registros  es de 222\n",
    "en este caso no tenemos datos faltantes."
   ]
  },
  {
   "cell_type": "code",
   "execution_count": null,
   "id": "41a1fdec",
   "metadata": {},
   "outputs": [],
   "source": [
    "data.dropna(inplace=True) ## elimina las filas faltantes y sobre escribe las filas originales"
   ]
  },
  {
   "cell_type": "code",
   "execution_count": null,
   "id": "f8c980e5",
   "metadata": {},
   "outputs": [
    {
     "name": "stdout",
     "output_type": "stream",
     "text": [
      "<class 'pandas.core.frame.DataFrame'>\n",
      "RangeIndex: 222 entries, 0 to 221\n",
      "Data columns (total 9 columns):\n",
      " #   Column      Non-Null Count  Dtype \n",
      "---  ------      --------------  ----- \n",
      " 0   Unnamed: 0  222 non-null    int64 \n",
      " 1   time        222 non-null    object\n",
      " 2   carrera     222 non-null    object\n",
      " 3   acepta      222 non-null    object\n",
      " 4   positivo    222 non-null    object\n",
      " 5   negativo    222 non-null    object\n",
      " 6   edad        222 non-null    int64 \n",
      " 7   sexo        222 non-null    object\n",
      " 8   trabajo     222 non-null    object\n",
      "dtypes: int64(2), object(7)\n",
      "memory usage: 15.7+ KB\n"
     ]
    }
   ],
   "source": [
    "data.info()"
   ]
  },
  {
   "cell_type": "markdown",
   "id": "a246e292",
   "metadata": {},
   "source": [
    "## aqui miramos que el daset no tiene datos faltantes"
   ]
  },
  {
   "cell_type": "markdown",
   "id": "ea3bf6b7",
   "metadata": {},
   "source": [
    "4.2 Columnas irrelevantes"
   ]
  },
  {
   "cell_type": "markdown",
   "id": "0f107551",
   "metadata": {},
   "source": [
    "**Una columna que no contiene información relevante para el problema que queremos resolver**. Por ejemplo en este caso podría ser una columna que no guarde relación con el posible perfil del cliente (deporte favorito, hobbies, comida favorita, etc.)\n",
    "**Una columna categórica pero con un sólo nivel**. \n",
    "- **Una columna numérica pero con un sólo valor**. Por ejemplo si en la columna \"edad\" todos los vlaores fuesen iguales a 50.\n",
    "**Columnas con información redundante**. "
   ]
  },
  {
   "cell_type": "markdown",
   "id": "8f687488",
   "metadata": {},
   "source": [
    "En este caso todas las columnas pueden resultar relevantes, pero debemos verificar que no haya columnas categóricas con un sólo nivel, o columnas numéricas con un sólo valor:"
   ]
  },
  {
   "cell_type": "raw",
   "id": "8f77447e",
   "metadata": {},
   "source": [
    "con la funcion nunique() hacemos un conteo"
   ]
  },
  {
   "cell_type": "code",
   "execution_count": null,
   "id": "2afccccf",
   "metadata": {},
   "outputs": [
    {
     "name": "stdout",
     "output_type": "stream",
     "text": [
      "Columna time: 27 subniveles\n",
      "Columna carrera: 20 subniveles\n",
      "Columna acepta: 2 subniveles\n",
      "Columna positivo: 3 subniveles\n",
      "Columna negativo: 3 subniveles\n",
      "Columna sexo: 2 subniveles\n",
      "Columna trabajo: 3 subniveles\n"
     ]
    }
   ],
   "source": [
    "# Conteo de los niveles en las diferentes columnas categóricas\n",
    "cols_cat = [ 'time','carrera', 'acepta', 'positivo', 'negativo',\n",
    "       'sexo', 'trabajo']\n",
    "\n",
    "for col in cols_cat:\n",
    "  print(f'Columna {col}: {data[col].nunique()} subniveles')"
   ]
  },
  {
   "cell_type": "markdown",
   "id": "fb0a2daa",
   "metadata": {},
   "source": [
    "##si alguna de estas columna tuviera un solo nivel se  podria eliminar."
   ]
  },
  {
   "cell_type": "markdown",
   "id": "60785a80",
   "metadata": {},
   "source": [
    "Verifiquemos lo que ocurre con las columnas numericas"
   ]
  },
  {
   "cell_type": "markdown",
   "id": "c64cea3c",
   "metadata": {},
   "source": [
    "df2:describe # esta funcion lo que va buscar es las columnas numericas "
   ]
  },
  {
   "cell_type": "code",
   "execution_count": null,
   "id": "2b1e3bc8",
   "metadata": {
    "scrolled": true
   },
   "outputs": [
    {
     "data": {
      "text/html": [
       "<div>\n",
       "<style scoped>\n",
       "    .dataframe tbody tr th:only-of-type {\n",
       "        vertical-align: middle;\n",
       "    }\n",
       "\n",
       "    .dataframe tbody tr th {\n",
       "        vertical-align: top;\n",
       "    }\n",
       "\n",
       "    .dataframe thead th {\n",
       "        text-align: right;\n",
       "    }\n",
       "</style>\n",
       "<table border=\"1\" class=\"dataframe\">\n",
       "  <thead>\n",
       "    <tr style=\"text-align: right;\">\n",
       "      <th></th>\n",
       "      <th>Unnamed: 0</th>\n",
       "      <th>edad</th>\n",
       "    </tr>\n",
       "  </thead>\n",
       "  <tbody>\n",
       "    <tr>\n",
       "      <th>count</th>\n",
       "      <td>222.000000</td>\n",
       "      <td>222.000000</td>\n",
       "    </tr>\n",
       "    <tr>\n",
       "      <th>mean</th>\n",
       "      <td>119.896396</td>\n",
       "      <td>28.166667</td>\n",
       "    </tr>\n",
       "    <tr>\n",
       "      <th>std</th>\n",
       "      <td>67.424522</td>\n",
       "      <td>7.556374</td>\n",
       "    </tr>\n",
       "    <tr>\n",
       "      <th>min</th>\n",
       "      <td>0.000000</td>\n",
       "      <td>17.000000</td>\n",
       "    </tr>\n",
       "    <tr>\n",
       "      <th>25%</th>\n",
       "      <td>63.250000</td>\n",
       "      <td>22.000000</td>\n",
       "    </tr>\n",
       "    <tr>\n",
       "      <th>50%</th>\n",
       "      <td>121.500000</td>\n",
       "      <td>27.000000</td>\n",
       "    </tr>\n",
       "    <tr>\n",
       "      <th>75%</th>\n",
       "      <td>177.750000</td>\n",
       "      <td>33.000000</td>\n",
       "    </tr>\n",
       "    <tr>\n",
       "      <th>max</th>\n",
       "      <td>234.000000</td>\n",
       "      <td>54.000000</td>\n",
       "    </tr>\n",
       "  </tbody>\n",
       "</table>\n",
       "</div>"
      ],
      "text/plain": [
       "       Unnamed: 0        edad\n",
       "count  222.000000  222.000000\n",
       "mean   119.896396   28.166667\n",
       "std     67.424522    7.556374\n",
       "min      0.000000   17.000000\n",
       "25%     63.250000   22.000000\n",
       "50%    121.500000   27.000000\n",
       "75%    177.750000   33.000000\n",
       "max    234.000000   54.000000"
      ]
     },
     "execution_count": 27,
     "metadata": {},
     "output_type": "execute_result"
    }
   ],
   "source": [
    "data.describe()"
   ]
  },
  {
   "cell_type": "markdown",
   "id": "0413ded5",
   "metadata": {},
   "source": [
    "##aqui nos muestra informacion estadisticas de esas columnas, una manera de ver que los valores de esas columnas no es uno solo sino que tienen diferentes rangos de valores pues es mirando la desviacion stanadar: std de esas columnas numericas, Si la desviacion es exactamente igual a cero quiere decir que en esa columna todos los valores son iguales, aca vemos que la desviacion std es diferente que cero en todos los casos,lo que nos esta diciendo es que todos los valores son diversos en todas las columnas y por lo tanto no vamos a eliminar niguna de esas columnas."
   ]
  },
  {
   "cell_type": "markdown",
   "id": "96b6b10e",
   "metadata": {},
   "source": []
  },
  {
   "cell_type": "markdown",
   "id": "82f86810",
   "metadata": {},
   "source": [
    "Todas las columnas numéricas tienen desviaciones estándar (\"std\") diferentes de cero, lo que indica que no tienen un único valor.\n",
    "\n",
    "Preservaremos todas las columnas numéricas."
   ]
  },
  {
   "cell_type": "markdown",
   "id": "39f63680",
   "metadata": {},
   "source": [
    "4.3 FILAS REPETIDAS"
   ]
  },
  {
   "cell_type": "markdown",
   "id": "d1fff432",
   "metadata": {},
   "source": [
    "print(f'Tamaño del set antes de eliminar las filas repetidas: {data.shape}') data.drop_duplicates(inplace=True)usaremos esta funcion que vamos a buscar filas que aparescan repetidas y solo deja la original y las otras las vamos a  eliminar. print(f'Tamaño del set después de eliminar las filas repetidas: {data.shape}'"
   ]
  },
  {
   "cell_type": "markdown",
   "id": "31e77dc9",
   "metadata": {},
   "source": [
    "print(f'Tamaño del set antes de eliminar las filas repetidas: {df2.shape}') data.drop_duplicates(inplace=True) print(f'Tamaño del set después de eliminar las filas repetidas: {data.shape}')"
   ]
  },
  {
   "cell_type": "code",
   "execution_count": null,
   "id": "81a7523f",
   "metadata": {},
   "outputs": [
    {
     "name": "stdout",
     "output_type": "stream",
     "text": [
      "Tamaño del set antes de eliminar las filas repetidas: (222, 9)\n",
      "Tamaño del set después de eliminar las filas repetidas: (222, 9)\n"
     ]
    }
   ],
   "source": [
    "print(f'Tamaño del set antes de eliminar las filas repetidas: {data.shape}')\n",
    "data.drop_duplicates(inplace=True)\n",
    "print(f'Tamaño del set después de eliminar las filas repetidas: {data.shape}')"
   ]
  },
  {
   "cell_type": "markdown",
   "id": "7da00589",
   "metadata": {},
   "source": [
    "#4.4 Outliers en las variables numericas"
   ]
  },
  {
   "cell_type": "markdown",
   "id": "f8a643c9",
   "metadata": {},
   "source": [
    "No siempre se deben eliminar los outliers porque dependiendo de la variable numérica analizadas estas pueden contener información importante.\n",
    "\n",
    "Creemos gráficas tipo \"boxplot\" de las columnas numéricas:"
   ]
  },
  {
   "cell_type": "markdown",
   "id": "521b1863",
   "metadata": {},
   "source": [
    "#aca vamos a mirar si hay valores estremos y en caso como lo vamos a manejar, los valores estremos se refieren precisamente a los a las columnas con cantidades numéricas, no siempre lo tenemos que elimnar si encontramos edad de 200 años lo podemos eliminar si encontramos valores de duracion d etiempo lo tenemos que eliminar.si alguien tiene un balance en su cuenta alto, no es viable eliminarlos, dependiendo d elos valores que hay en cada columna miramos si los eliminamos o no, primero vamos a tomar las columnas con esas variavles numericas y vamos hacer una grafica de tipo boxpl"
   ]
  },
  {
   "cell_type": "markdown",
   "id": "05b8f99a",
   "metadata": {},
   "source": [
    "#lo que vamos haber en ese graifco cada una de esas columnas que valores se estan saliendo del rango normal que tienen esas cantidades numericas"
   ]
  },
  {
   "cell_type": "code",
   "execution_count": null,
   "id": "e19bc90c",
   "metadata": {},
   "outputs": [],
   "source": [
    "edad_maxima = data[\"edad\"].max()"
   ]
  },
  {
   "cell_type": "code",
   "execution_count": null,
   "id": "30e80faa",
   "metadata": {},
   "outputs": [
    {
     "data": {
      "text/plain": [
       "54"
      ]
     },
     "execution_count": 32,
     "metadata": {},
     "output_type": "execute_result"
    }
   ],
   "source": [
    "edad_maxima"
   ]
  },
  {
   "cell_type": "code",
   "execution_count": null,
   "id": "a7d42fe9",
   "metadata": {},
   "outputs": [
    {
     "data": {
      "image/png": "[encoded data removed]",
      "text/plain": [
       "<Figure size 600x300 with 1 Axes>"
      ]
     },
     "metadata": {},
     "output_type": "display_data"
    }
   ],
   "source": [
    "plt.figure(figsize=(6,3))\n",
    "#sns.boxplot(titanic['edad'])\n",
    "sns.boxplot(x=data[\"edad\"])\n",
    "plt.title('data Boxplot de la Edad')\n",
    "plt.show()"
   ]
  },
  {
   "cell_type": "markdown",
   "id": "11547ae1",
   "metadata": {},
   "source": [
    "#Errores tipograficos"
   ]
  },
  {
   "cell_type": "code",
   "execution_count": null,
   "id": "537ae8e1",
   "metadata": {},
   "outputs": [
    {
     "data": {
      "image/png": "[encoded data removed]",
      "text/plain": [
       "<Figure size 1300x3000 with 6 Axes>"
      ]
     },
     "metadata": {},
     "output_type": "display_data"
    }
   ],
   "source": [
    "cols_cat = ['carrera', 'acepta', 'positivo', 'negativo', 'sexo',\n",
    "       'trabajo']\n",
    "\n",
    "fig, ax = plt.subplots(nrows=6, ncols=1, figsize=(13,30))\n",
    "fig.subplots_adjust(hspace=1)\n",
    "\n",
    "for i, col in enumerate(cols_cat):\n",
    "  sns.countplot(x=col, data=data, ax=ax[i])\n",
    "  ax[i].set_title(col)\n",
    "  ax[i].set_xticklabels(ax[i].get_xticklabels(),rotation=30)"
   ]
  },
  {
   "cell_type": "markdown",
   "id": "2eec4d10",
   "metadata": {},
   "source": [
    "##no se encuentran en las categorias subniveles con errores tipograficos."
   ]
  },
  {
   "cell_type": "code",
   "execution_count": null,
   "id": "5d2de020",
   "metadata": {},
   "outputs": [
    {
     "data": {
      "text/plain": [
       "<bound method DataFrame.info of      Unnamed: 0        time                       carrera acepta  \\\n",
       "0             0  2020-11-08        Ingeniería de Sistemas     Si   \n",
       "1             1  2020-11-08                    Psicología     Si   \n",
       "2             2  2020-11-08        Ingeniería de Sistemas     Si   \n",
       "3             3  2020-11-08        Ingeniería de Sistemas     Si   \n",
       "4             4  2020-11-08        Ingeniería de Sistemas     Si   \n",
       "..          ...         ...                           ...    ...   \n",
       "217         230  2020-12-10  Gestión Turística y Hotelera     Si   \n",
       "218         231  2020-12-11        Ingeniería de Sistemas     No   \n",
       "219         232  2020-12-11  Gestión Turística y Hotelera     No   \n",
       "220         233  2020-12-11         Ingeniería Agronómica     Si   \n",
       "221         234  2020-12-12        Comercio Internacional     Si   \n",
       "\n",
       "                          positivo  \\\n",
       "0                Horario flexible.   \n",
       "1    Acceso desde cualquier lugar.   \n",
       "2                Horario flexible.   \n",
       "3                Horario flexible.   \n",
       "4    Acceso desde cualquier lugar.   \n",
       "..                             ...   \n",
       "217              Horario flexible.   \n",
       "218  Acceso desde cualquier lugar.   \n",
       "219              Horario flexible.   \n",
       "220  Acceso desde cualquier lugar.   \n",
       "221              Horario flexible.   \n",
       "\n",
       "                                              negativo  edad    sexo   trabajo  \n",
       "0               Contacto Personal Docente-Estudiantil.    20  Hombre  Eventual  \n",
       "1               Contacto Personal Docente-Estudiantil.    26  Hombre  Eventual  \n",
       "2    Falta de recursos de calidad(plataformas, doce...    20   Mujer        Sí  \n",
       "3                                 Conexión a internet.    18   Mujer        No  \n",
       "4               Contacto Personal Docente-Estudiantil.    39  Hombre        Sí  \n",
       "..                                                 ...   ...     ...       ...  \n",
       "217                               Conexión a internet.    19   Mujer        Sí  \n",
       "218  Falta de recursos de calidad(plataformas, doce...    23   Mujer        No  \n",
       "219  Falta de recursos de calidad(plataformas, doce...    25  Hombre        Sí  \n",
       "220             Contacto Personal Docente-Estudiantil.    20   Mujer        Sí  \n",
       "221  Falta de recursos de calidad(plataformas, doce...    23  Hombre        Sí  \n",
       "\n",
       "[222 rows x 9 columns]>"
      ]
     },
     "execution_count": 214,
     "metadata": {},
     "output_type": "execute_result"
    }
   ],
   "source": [
    "data.info"
   ]
  },
  {
   "cell_type": "code",
   "execution_count": null,
   "id": "7e20fbc7",
   "metadata": {},
   "outputs": [
    {
     "data": {
      "text/plain": [
       "(222, 9)"
      ]
     },
     "execution_count": 215,
     "metadata": {},
     "output_type": "execute_result"
    }
   ],
   "source": [
    "data.shape"
   ]
  },
  {
   "cell_type": "code",
   "execution_count": null,
   "id": "308b18c6",
   "metadata": {},
   "outputs": [
    {
     "name": "stdout",
     "output_type": "stream",
     "text": [
      "<class 'pandas.core.frame.DataFrame'>\n",
      "Int64Index: 222 entries, 0 to 221\n",
      "Data columns (total 9 columns):\n",
      " #   Column      Non-Null Count  Dtype \n",
      "---  ------      --------------  ----- \n",
      " 0   Unnamed: 0  222 non-null    int64 \n",
      " 1   time        222 non-null    object\n",
      " 2   carrera     222 non-null    object\n",
      " 3   acepta      222 non-null    object\n",
      " 4   positivo    222 non-null    object\n",
      " 5   negativo    222 non-null    object\n",
      " 6   edad        222 non-null    int64 \n",
      " 7   sexo        222 non-null    object\n",
      " 8   trabajo     222 non-null    object\n",
      "dtypes: int64(2), object(7)\n",
      "memory usage: 17.3+ KB\n"
     ]
    }
   ],
   "source": [
    "data.info()"
   ]
  },
  {
   "cell_type": "markdown",
   "id": "2976471c",
   "metadata": {},
   "source": [
    "## ANALISIS EXPLOTAORIO DE DATOS "
   ]
  },
  {
   "cell_type": "markdown",
   "id": "1f274dc6",
   "metadata": {},
   "source": [
    "2.Análisis exploratorio (Medias, Mediana, Moda. etc) tanto de variables Categóricas como de Numéricas debe incluir mas no limitarse a tablas de resumen, gráficos etc.. con la debida interpretación de los datos¶\n",
    "df['edad'].mean()"
   ]
  },
  {
   "cell_type": "markdown",
   "id": "213e89dd",
   "metadata": {},
   "source": [
    "\n",
    "# 1. El problema del negocio"
   ]
  },
  {
   "cell_type": "markdown",
   "id": "cc7b4aac",
   "metadata": {},
   "source": [
    "##La Universidad Pública de El Alto ubicada en La Paz-Bolivia decidió realizar una encuesta, en la que quiere saber si sus estudiantes aceptan la modalidad virtual y si estarían de acuerdo en habilitar cursos virtuales permanentes."
   ]
  },
  {
   "cell_type": "markdown",
   "id": "49e2ea4a",
   "metadata": {},
   "source": [
    "## Contenido\n",
    "1.\thora -> fecha en que el estudiante toma la encuesta.\n",
    "2.\tcarrera -> carrera a la que pertenece\n",
    "3.\tacepta -> (Si) si el alumno acepta la modalidad virtual, (No) si la rechaza.\n",
    "4.\tpositivo -> Ventajas de estudiar virtualmente.\n",
    "5.\tnegativo -> desventajas de estudiar virtualmente.\n",
    "6.\tedad -> edad del estudiante\n",
    "7.\tsexo -> género del estudiante.\n",
    "8.\ttrabajo -> si el alumno trabaja\n"
   ]
  },
  {
   "cell_type": "markdown",
   "id": "bc9a4029",
   "metadata": {},
   "source": [
    "## perfiles\n",
    "## 1.Si los estudiantes aceptan la modalidad virtual\n",
    "\n",
    "## "
   ]
  },
  {
   "cell_type": "markdown",
   "id": "eb3e8bb7",
   "metadata": {},
   "source": [
    "3. Lectura del dataset"
   ]
  },
  {
   "cell_type": "code",
   "execution_count": null,
   "id": "353211f9",
   "metadata": {},
   "outputs": [
    {
     "name": "stdout",
     "output_type": "stream",
     "text": [
      "(222, 9)\n"
     ]
    },
    {
     "data": {
      "text/html": [
       "<div>\n",
       "<style scoped>\n",
       "    .dataframe tbody tr th:only-of-type {\n",
       "        vertical-align: middle;\n",
       "    }\n",
       "\n",
       "    .dataframe tbody tr th {\n",
       "        vertical-align: top;\n",
       "    }\n",
       "\n",
       "    .dataframe thead th {\n",
       "        text-align: right;\n",
       "    }\n",
       "</style>\n",
       "<table border=\"1\" class=\"dataframe\">\n",
       "  <thead>\n",
       "    <tr style=\"text-align: right;\">\n",
       "      <th></th>\n",
       "      <th>Unnamed: 0</th>\n",
       "      <th>time</th>\n",
       "      <th>carrera</th>\n",
       "      <th>acepta</th>\n",
       "      <th>positivo</th>\n",
       "      <th>negativo</th>\n",
       "      <th>edad</th>\n",
       "      <th>sexo</th>\n",
       "      <th>trabajo</th>\n",
       "    </tr>\n",
       "  </thead>\n",
       "  <tbody>\n",
       "    <tr>\n",
       "      <th>0</th>\n",
       "      <td>0</td>\n",
       "      <td>2020-11-08</td>\n",
       "      <td>Ingeniería de Sistemas</td>\n",
       "      <td>Si</td>\n",
       "      <td>Horario flexible.</td>\n",
       "      <td>Contacto Personal Docente-Estudiantil.</td>\n",
       "      <td>20</td>\n",
       "      <td>Hombre</td>\n",
       "      <td>Eventual</td>\n",
       "    </tr>\n",
       "    <tr>\n",
       "      <th>1</th>\n",
       "      <td>1</td>\n",
       "      <td>2020-11-08</td>\n",
       "      <td>Psicología</td>\n",
       "      <td>Si</td>\n",
       "      <td>Acceso desde cualquier lugar.</td>\n",
       "      <td>Contacto Personal Docente-Estudiantil.</td>\n",
       "      <td>26</td>\n",
       "      <td>Hombre</td>\n",
       "      <td>Eventual</td>\n",
       "    </tr>\n",
       "    <tr>\n",
       "      <th>2</th>\n",
       "      <td>2</td>\n",
       "      <td>2020-11-08</td>\n",
       "      <td>Ingeniería de Sistemas</td>\n",
       "      <td>Si</td>\n",
       "      <td>Horario flexible.</td>\n",
       "      <td>Falta de recursos de calidad(plataformas, doce...</td>\n",
       "      <td>20</td>\n",
       "      <td>Mujer</td>\n",
       "      <td>Sí</td>\n",
       "    </tr>\n",
       "    <tr>\n",
       "      <th>3</th>\n",
       "      <td>3</td>\n",
       "      <td>2020-11-08</td>\n",
       "      <td>Ingeniería de Sistemas</td>\n",
       "      <td>Si</td>\n",
       "      <td>Horario flexible.</td>\n",
       "      <td>Conexión a internet.</td>\n",
       "      <td>18</td>\n",
       "      <td>Mujer</td>\n",
       "      <td>No</td>\n",
       "    </tr>\n",
       "    <tr>\n",
       "      <th>4</th>\n",
       "      <td>4</td>\n",
       "      <td>2020-11-08</td>\n",
       "      <td>Ingeniería de Sistemas</td>\n",
       "      <td>Si</td>\n",
       "      <td>Acceso desde cualquier lugar.</td>\n",
       "      <td>Contacto Personal Docente-Estudiantil.</td>\n",
       "      <td>39</td>\n",
       "      <td>Hombre</td>\n",
       "      <td>Sí</td>\n",
       "    </tr>\n",
       "  </tbody>\n",
       "</table>\n",
       "</div>"
      ],
      "text/plain": [
       "   Unnamed: 0        time                 carrera acepta  \\\n",
       "0           0  2020-11-08  Ingeniería de Sistemas     Si   \n",
       "1           1  2020-11-08              Psicología     Si   \n",
       "2           2  2020-11-08  Ingeniería de Sistemas     Si   \n",
       "3           3  2020-11-08  Ingeniería de Sistemas     Si   \n",
       "4           4  2020-11-08  Ingeniería de Sistemas     Si   \n",
       "\n",
       "                        positivo  \\\n",
       "0              Horario flexible.   \n",
       "1  Acceso desde cualquier lugar.   \n",
       "2              Horario flexible.   \n",
       "3              Horario flexible.   \n",
       "4  Acceso desde cualquier lugar.   \n",
       "\n",
       "                                            negativo  edad    sexo   trabajo  \n",
       "0             Contacto Personal Docente-Estudiantil.    20  Hombre  Eventual  \n",
       "1             Contacto Personal Docente-Estudiantil.    26  Hombre  Eventual  \n",
       "2  Falta de recursos de calidad(plataformas, doce...    20   Mujer        Sí  \n",
       "3                               Conexión a internet.    18   Mujer        No  \n",
       "4             Contacto Personal Docente-Estudiantil.    39  Hombre        Sí  "
      ]
     },
     "execution_count": 9,
     "metadata": {},
     "output_type": "execute_result"
    }
   ],
   "source": [
    "print(data.shape)\n",
    "data.head()"
   ]
  },
  {
   "cell_type": "markdown",
   "id": "4d3b95fc",
   "metadata": {},
   "source": [
    "##vamos analizar cada columna "
   ]
  },
  {
   "cell_type": "code",
   "execution_count": null,
   "id": "6a4c344b",
   "metadata": {},
   "outputs": [
    {
     "name": "stdout",
     "output_type": "stream",
     "text": [
      "<class 'pandas.core.frame.DataFrame'>\n",
      "Int64Index: 222 entries, 0 to 221\n",
      "Data columns (total 9 columns):\n",
      " #   Column      Non-Null Count  Dtype \n",
      "---  ------      --------------  ----- \n",
      " 0   Unnamed: 0  222 non-null    int64 \n",
      " 1   time        222 non-null    object\n",
      " 2   carrera     222 non-null    object\n",
      " 3   acepta      222 non-null    object\n",
      " 4   positivo    222 non-null    object\n",
      " 5   negativo    222 non-null    object\n",
      " 6   edad        222 non-null    int64 \n",
      " 7   sexo        222 non-null    object\n",
      " 8   trabajo     222 non-null    object\n",
      "dtypes: int64(2), object(7)\n",
      "memory usage: 17.3+ KB\n"
     ]
    }
   ],
   "source": [
    "data.info()# podemos ver las variables  categoricas y numericas"
   ]
  },
  {
   "cell_type": "code",
   "execution_count": null,
   "id": "80d79951",
   "metadata": {},
   "outputs": [
    {
     "data": {
      "image/png": "[encoded data removed]",
      "text/plain": [
       "<Figure size 1500x1200 with 1 Axes>"
      ]
     },
     "metadata": {},
     "output_type": "display_data"
    }
   ],
   "source": [
    "plt.figure(figsize=(15, 12))\n",
    "ax = sns.countplot(x='time', data=data)\n",
    "ax.set_xticklabels(ax.get_xticklabels(), rotation=90)\n",
    "plt.show()"
   ]
  },
  {
   "cell_type": "code",
   "execution_count": null,
   "id": "edc06598",
   "metadata": {},
   "outputs": [
    {
     "data": {
      "image/png": "[encoded data removed]",
      "text/plain": [
       "<Figure size 1500x1200 with 1 Axes>"
      ]
     },
     "metadata": {},
     "output_type": "display_data"
    }
   ],
   "source": [
    "plt.figure(figsize=(15, 12))\n",
    "ax = sns.countplot(x='carrera', data=data)\n",
    "ax.set_xticklabels(ax.get_xticklabels(), rotation=90)\n",
    "plt.show()"
   ]
  },
  {
   "cell_type": "code",
   "execution_count": null,
   "id": "4b3e22ae",
   "metadata": {},
   "outputs": [
    {
     "data": {
      "image/png": "[encoded data removed]",
      "text/plain": [
       "<Figure size 1500x1200 with 1 Axes>"
      ]
     },
     "metadata": {},
     "output_type": "display_data"
    }
   ],
   "source": [
    "plt.figure(figsize=(15, 12))\n",
    "ax = sns.countplot(x='acepta', data=data)\n",
    "ax.set_xticklabels(ax.get_xticklabels(), rotation=90)\n",
    "plt.show()"
   ]
  },
  {
   "cell_type": "code",
   "execution_count": null,
   "id": "00dbde55",
   "metadata": {},
   "outputs": [],
   "source": [
    "import pandas as pd\n",
    "import matplotlib.pyplot as plt\n",
    "import seaborn as sns"
   ]
  },
  {
   "cell_type": "code",
   "execution_count": null,
   "id": "379e779b",
   "metadata": {},
   "outputs": [
    {
     "data": {
      "image/png": "[encoded data removed]",
      "text/plain": [
       "<Figure size 1500x1200 with 1 Axes>"
      ]
     },
     "metadata": {},
     "output_type": "display_data"
    }
   ],
   "source": [
    "plt.figure(figsize=(15, 12))\n",
    "ax = sns.countplot(x='positivo', data=data)\n",
    "ax.set_xticklabels(ax.get_xticklabels(), rotation=90)\n",
    "plt.show()"
   ]
  },
  {
   "cell_type": "code",
   "execution_count": null,
   "id": "42ca26af",
   "metadata": {},
   "outputs": [],
   "source": []
  },
  {
   "cell_type": "code",
   "execution_count": null,
   "id": "454177c9",
   "metadata": {},
   "outputs": [
    {
     "data": {
      "image/png": "[encoded data removed]",
      "text/plain": [
       "<Figure size 1500x1200 with 1 Axes>"
      ]
     },
     "metadata": {},
     "output_type": "display_data"
    }
   ],
   "source": [
    "plt.figure(figsize=(15, 12))\n",
    "ax = sns.countplot(x='negativo', data=data)\n",
    "ax.set_xticklabels(ax.get_xticklabels(), rotation=90)\n",
    "plt.show()"
   ]
  },
  {
   "cell_type": "code",
   "execution_count": null,
   "id": "6064007c",
   "metadata": {},
   "outputs": [
    {
     "data": {
      "image/png": "[encoded data removed]",
      "text/plain": [
       "<Figure size 1500x1200 with 1 Axes>"
      ]
     },
     "metadata": {},
     "output_type": "display_data"
    }
   ],
   "source": [
    "plt.figure(figsize=(15, 12))\n",
    "ax = sns.countplot(x='edad', data=data)\n",
    "ax.set_xticklabels(ax.get_xticklabels(), rotation=90)\n",
    "plt.show()"
   ]
  },
  {
   "cell_type": "code",
   "execution_count": null,
   "id": "df231532",
   "metadata": {},
   "outputs": [],
   "source": [
    "media_edad = np.mean(data['edad'])"
   ]
  },
  {
   "cell_type": "code",
   "execution_count": null,
   "id": "2450f0a4",
   "metadata": {},
   "outputs": [
    {
     "data": {
      "text/plain": [
       "28.166666666666668"
      ]
     },
     "execution_count": 73,
     "metadata": {},
     "output_type": "execute_result"
    }
   ],
   "source": [
    "media_edad"
   ]
  },
  {
   "cell_type": "code",
   "execution_count": null,
   "id": "df84600d",
   "metadata": {},
   "outputs": [
    {
     "data": {
      "text/plain": [
       "0    30\n",
       "Name: edad, dtype: int64"
      ]
     },
     "execution_count": 81,
     "metadata": {},
     "output_type": "execute_result"
    }
   ],
   "source": [
    "data['edad'].mode()"
   ]
  },
  {
   "cell_type": "code",
   "execution_count": null,
   "id": "6f1d921b",
   "metadata": {},
   "outputs": [],
   "source": [
    "desviacion_edad = np.std(data['edad'])"
   ]
  },
  {
   "cell_type": "code",
   "execution_count": null,
   "id": "45d3e5e7",
   "metadata": {},
   "outputs": [
    {
     "data": {
      "text/plain": [
       "7.539336283227567"
      ]
     },
     "execution_count": 84,
     "metadata": {},
     "output_type": "execute_result"
    }
   ],
   "source": [
    "desviacion_edad"
   ]
  },
  {
   "cell_type": "code",
   "execution_count": null,
   "id": "18339397",
   "metadata": {},
   "outputs": [
    {
     "data": {
      "image/png": "[encoded data removed]",
      "text/plain": [
       "<Figure size 1500x1200 with 1 Axes>"
      ]
     },
     "metadata": {},
     "output_type": "display_data"
    }
   ],
   "source": [
    "plt.figure(figsize=(15, 12))\n",
    "ax = sns.countplot(x='sexo', data=data)\n",
    "ax.set_xticklabels(ax.get_xticklabels(), rotation=90)\n",
    "plt.show()"
   ]
  },
  {
   "cell_type": "code",
   "execution_count": null,
   "id": "5dc38ad0",
   "metadata": {},
   "outputs": [
    {
     "data": {
      "image/png": "[encoded data removed]",
      "text/plain": [
       "<Figure size 1500x1200 with 1 Axes>"
      ]
     },
     "metadata": {},
     "output_type": "display_data"
    }
   ],
   "source": [
    "plt.figure(figsize=(15, 12))\n",
    "ax = sns.countplot(x='trabajo', data=data)\n",
    "ax.set_xticklabels(ax.get_xticklabels(), rotation=90)\n",
    "plt.show()"
   ]
  },
  {
   "cell_type": "code",
   "execution_count": null,
   "id": "881600a1",
   "metadata": {},
   "outputs": [
    {
     "data": {
      "text/plain": [
       "sexo\n",
       "Hombre    120\n",
       "Mujer     102\n",
       "dtype: int64"
      ]
     },
     "execution_count": 85,
     "metadata": {},
     "output_type": "execute_result"
    }
   ],
   "source": [
    "data.groupby('sexo').size()"
   ]
  },
  {
   "cell_type": "code",
   "execution_count": null,
   "id": "15ece6fe",
   "metadata": {},
   "outputs": [
    {
     "data": {
      "text/plain": [
       "sexo    edad\n",
       "Hombre  17       1\n",
       "        18       3\n",
       "        19       5\n",
       "        20      10\n",
       "        21      12\n",
       "        22       3\n",
       "        23       4\n",
       "        24       3\n",
       "        25       9\n",
       "        26       6\n",
       "        27       2\n",
       "        28       5\n",
       "        29       4\n",
       "        30      11\n",
       "        31       1\n",
       "        32       2\n",
       "        33       9\n",
       "        34       2\n",
       "        35       5\n",
       "        36       2\n",
       "        37       1\n",
       "        38       1\n",
       "        39       2\n",
       "        40       7\n",
       "        41       1\n",
       "        42       1\n",
       "        43       2\n",
       "        45       3\n",
       "        46       1\n",
       "        49       1\n",
       "        50       1\n",
       "Mujer   17       3\n",
       "        18       2\n",
       "        19       7\n",
       "        20      10\n",
       "        21       1\n",
       "        22       6\n",
       "        23       7\n",
       "        24       5\n",
       "        25       8\n",
       "        26       3\n",
       "        27       4\n",
       "        28       2\n",
       "        29       2\n",
       "        30      12\n",
       "        31       3\n",
       "        32       6\n",
       "        33       3\n",
       "        34       2\n",
       "        35       1\n",
       "        36       2\n",
       "        37       3\n",
       "        38       5\n",
       "        40       3\n",
       "        47       1\n",
       "        54       1\n",
       "dtype: int64"
      ]
     },
     "execution_count": 86,
     "metadata": {},
     "output_type": "execute_result"
    }
   ],
   "source": [
    "data.groupby(['sexo','edad']).size()"
   ]
  },
  {
   "cell_type": "code",
   "execution_count": null,
   "id": "9310c0cf",
   "metadata": {},
   "outputs": [
    {
     "data": {
      "text/html": [
       "<div>\n",
       "<style scoped>\n",
       "    .dataframe tbody tr th:only-of-type {\n",
       "        vertical-align: middle;\n",
       "    }\n",
       "\n",
       "    .dataframe tbody tr th {\n",
       "        vertical-align: top;\n",
       "    }\n",
       "\n",
       "    .dataframe thead th {\n",
       "        text-align: right;\n",
       "    }\n",
       "</style>\n",
       "<table border=\"1\" class=\"dataframe\">\n",
       "  <thead>\n",
       "    <tr style=\"text-align: right;\">\n",
       "      <th></th>\n",
       "      <th>sexo</th>\n",
       "      <th>edad</th>\n",
       "      <th>Count</th>\n",
       "    </tr>\n",
       "  </thead>\n",
       "  <tbody>\n",
       "    <tr>\n",
       "      <th>0</th>\n",
       "      <td>Hombre</td>\n",
       "      <td>17</td>\n",
       "      <td>1</td>\n",
       "    </tr>\n",
       "    <tr>\n",
       "      <th>1</th>\n",
       "      <td>Hombre</td>\n",
       "      <td>18</td>\n",
       "      <td>3</td>\n",
       "    </tr>\n",
       "    <tr>\n",
       "      <th>2</th>\n",
       "      <td>Hombre</td>\n",
       "      <td>19</td>\n",
       "      <td>5</td>\n",
       "    </tr>\n",
       "    <tr>\n",
       "      <th>3</th>\n",
       "      <td>Hombre</td>\n",
       "      <td>20</td>\n",
       "      <td>10</td>\n",
       "    </tr>\n",
       "    <tr>\n",
       "      <th>4</th>\n",
       "      <td>Hombre</td>\n",
       "      <td>21</td>\n",
       "      <td>12</td>\n",
       "    </tr>\n",
       "    <tr>\n",
       "      <th>5</th>\n",
       "      <td>Hombre</td>\n",
       "      <td>22</td>\n",
       "      <td>3</td>\n",
       "    </tr>\n",
       "    <tr>\n",
       "      <th>6</th>\n",
       "      <td>Hombre</td>\n",
       "      <td>23</td>\n",
       "      <td>4</td>\n",
       "    </tr>\n",
       "    <tr>\n",
       "      <th>7</th>\n",
       "      <td>Hombre</td>\n",
       "      <td>24</td>\n",
       "      <td>3</td>\n",
       "    </tr>\n",
       "    <tr>\n",
       "      <th>8</th>\n",
       "      <td>Hombre</td>\n",
       "      <td>25</td>\n",
       "      <td>9</td>\n",
       "    </tr>\n",
       "    <tr>\n",
       "      <th>9</th>\n",
       "      <td>Hombre</td>\n",
       "      <td>26</td>\n",
       "      <td>6</td>\n",
       "    </tr>\n",
       "    <tr>\n",
       "      <th>10</th>\n",
       "      <td>Hombre</td>\n",
       "      <td>27</td>\n",
       "      <td>2</td>\n",
       "    </tr>\n",
       "    <tr>\n",
       "      <th>11</th>\n",
       "      <td>Hombre</td>\n",
       "      <td>28</td>\n",
       "      <td>5</td>\n",
       "    </tr>\n",
       "    <tr>\n",
       "      <th>12</th>\n",
       "      <td>Hombre</td>\n",
       "      <td>29</td>\n",
       "      <td>4</td>\n",
       "    </tr>\n",
       "    <tr>\n",
       "      <th>13</th>\n",
       "      <td>Hombre</td>\n",
       "      <td>30</td>\n",
       "      <td>11</td>\n",
       "    </tr>\n",
       "    <tr>\n",
       "      <th>14</th>\n",
       "      <td>Hombre</td>\n",
       "      <td>31</td>\n",
       "      <td>1</td>\n",
       "    </tr>\n",
       "    <tr>\n",
       "      <th>15</th>\n",
       "      <td>Hombre</td>\n",
       "      <td>32</td>\n",
       "      <td>2</td>\n",
       "    </tr>\n",
       "    <tr>\n",
       "      <th>16</th>\n",
       "      <td>Hombre</td>\n",
       "      <td>33</td>\n",
       "      <td>9</td>\n",
       "    </tr>\n",
       "    <tr>\n",
       "      <th>17</th>\n",
       "      <td>Hombre</td>\n",
       "      <td>34</td>\n",
       "      <td>2</td>\n",
       "    </tr>\n",
       "    <tr>\n",
       "      <th>18</th>\n",
       "      <td>Hombre</td>\n",
       "      <td>35</td>\n",
       "      <td>5</td>\n",
       "    </tr>\n",
       "    <tr>\n",
       "      <th>19</th>\n",
       "      <td>Hombre</td>\n",
       "      <td>36</td>\n",
       "      <td>2</td>\n",
       "    </tr>\n",
       "    <tr>\n",
       "      <th>20</th>\n",
       "      <td>Hombre</td>\n",
       "      <td>37</td>\n",
       "      <td>1</td>\n",
       "    </tr>\n",
       "    <tr>\n",
       "      <th>21</th>\n",
       "      <td>Hombre</td>\n",
       "      <td>38</td>\n",
       "      <td>1</td>\n",
       "    </tr>\n",
       "    <tr>\n",
       "      <th>22</th>\n",
       "      <td>Hombre</td>\n",
       "      <td>39</td>\n",
       "      <td>2</td>\n",
       "    </tr>\n",
       "    <tr>\n",
       "      <th>23</th>\n",
       "      <td>Hombre</td>\n",
       "      <td>40</td>\n",
       "      <td>7</td>\n",
       "    </tr>\n",
       "    <tr>\n",
       "      <th>24</th>\n",
       "      <td>Hombre</td>\n",
       "      <td>41</td>\n",
       "      <td>1</td>\n",
       "    </tr>\n",
       "    <tr>\n",
       "      <th>25</th>\n",
       "      <td>Hombre</td>\n",
       "      <td>42</td>\n",
       "      <td>1</td>\n",
       "    </tr>\n",
       "    <tr>\n",
       "      <th>26</th>\n",
       "      <td>Hombre</td>\n",
       "      <td>43</td>\n",
       "      <td>2</td>\n",
       "    </tr>\n",
       "    <tr>\n",
       "      <th>27</th>\n",
       "      <td>Hombre</td>\n",
       "      <td>45</td>\n",
       "      <td>3</td>\n",
       "    </tr>\n",
       "    <tr>\n",
       "      <th>28</th>\n",
       "      <td>Hombre</td>\n",
       "      <td>46</td>\n",
       "      <td>1</td>\n",
       "    </tr>\n",
       "    <tr>\n",
       "      <th>29</th>\n",
       "      <td>Hombre</td>\n",
       "      <td>49</td>\n",
       "      <td>1</td>\n",
       "    </tr>\n",
       "    <tr>\n",
       "      <th>30</th>\n",
       "      <td>Hombre</td>\n",
       "      <td>50</td>\n",
       "      <td>1</td>\n",
       "    </tr>\n",
       "    <tr>\n",
       "      <th>31</th>\n",
       "      <td>Mujer</td>\n",
       "      <td>17</td>\n",
       "      <td>3</td>\n",
       "    </tr>\n",
       "    <tr>\n",
       "      <th>32</th>\n",
       "      <td>Mujer</td>\n",
       "      <td>18</td>\n",
       "      <td>2</td>\n",
       "    </tr>\n",
       "    <tr>\n",
       "      <th>33</th>\n",
       "      <td>Mujer</td>\n",
       "      <td>19</td>\n",
       "      <td>7</td>\n",
       "    </tr>\n",
       "    <tr>\n",
       "      <th>34</th>\n",
       "      <td>Mujer</td>\n",
       "      <td>20</td>\n",
       "      <td>10</td>\n",
       "    </tr>\n",
       "    <tr>\n",
       "      <th>35</th>\n",
       "      <td>Mujer</td>\n",
       "      <td>21</td>\n",
       "      <td>1</td>\n",
       "    </tr>\n",
       "    <tr>\n",
       "      <th>36</th>\n",
       "      <td>Mujer</td>\n",
       "      <td>22</td>\n",
       "      <td>6</td>\n",
       "    </tr>\n",
       "    <tr>\n",
       "      <th>37</th>\n",
       "      <td>Mujer</td>\n",
       "      <td>23</td>\n",
       "      <td>7</td>\n",
       "    </tr>\n",
       "    <tr>\n",
       "      <th>38</th>\n",
       "      <td>Mujer</td>\n",
       "      <td>24</td>\n",
       "      <td>5</td>\n",
       "    </tr>\n",
       "    <tr>\n",
       "      <th>39</th>\n",
       "      <td>Mujer</td>\n",
       "      <td>25</td>\n",
       "      <td>8</td>\n",
       "    </tr>\n",
       "    <tr>\n",
       "      <th>40</th>\n",
       "      <td>Mujer</td>\n",
       "      <td>26</td>\n",
       "      <td>3</td>\n",
       "    </tr>\n",
       "    <tr>\n",
       "      <th>41</th>\n",
       "      <td>Mujer</td>\n",
       "      <td>27</td>\n",
       "      <td>4</td>\n",
       "    </tr>\n",
       "    <tr>\n",
       "      <th>42</th>\n",
       "      <td>Mujer</td>\n",
       "      <td>28</td>\n",
       "      <td>2</td>\n",
       "    </tr>\n",
       "    <tr>\n",
       "      <th>43</th>\n",
       "      <td>Mujer</td>\n",
       "      <td>29</td>\n",
       "      <td>2</td>\n",
       "    </tr>\n",
       "    <tr>\n",
       "      <th>44</th>\n",
       "      <td>Mujer</td>\n",
       "      <td>30</td>\n",
       "      <td>12</td>\n",
       "    </tr>\n",
       "    <tr>\n",
       "      <th>45</th>\n",
       "      <td>Mujer</td>\n",
       "      <td>31</td>\n",
       "      <td>3</td>\n",
       "    </tr>\n",
       "    <tr>\n",
       "      <th>46</th>\n",
       "      <td>Mujer</td>\n",
       "      <td>32</td>\n",
       "      <td>6</td>\n",
       "    </tr>\n",
       "    <tr>\n",
       "      <th>47</th>\n",
       "      <td>Mujer</td>\n",
       "      <td>33</td>\n",
       "      <td>3</td>\n",
       "    </tr>\n",
       "    <tr>\n",
       "      <th>48</th>\n",
       "      <td>Mujer</td>\n",
       "      <td>34</td>\n",
       "      <td>2</td>\n",
       "    </tr>\n",
       "    <tr>\n",
       "      <th>49</th>\n",
       "      <td>Mujer</td>\n",
       "      <td>35</td>\n",
       "      <td>1</td>\n",
       "    </tr>\n",
       "    <tr>\n",
       "      <th>50</th>\n",
       "      <td>Mujer</td>\n",
       "      <td>36</td>\n",
       "      <td>2</td>\n",
       "    </tr>\n",
       "    <tr>\n",
       "      <th>51</th>\n",
       "      <td>Mujer</td>\n",
       "      <td>37</td>\n",
       "      <td>3</td>\n",
       "    </tr>\n",
       "    <tr>\n",
       "      <th>52</th>\n",
       "      <td>Mujer</td>\n",
       "      <td>38</td>\n",
       "      <td>5</td>\n",
       "    </tr>\n",
       "    <tr>\n",
       "      <th>53</th>\n",
       "      <td>Mujer</td>\n",
       "      <td>40</td>\n",
       "      <td>3</td>\n",
       "    </tr>\n",
       "    <tr>\n",
       "      <th>54</th>\n",
       "      <td>Mujer</td>\n",
       "      <td>47</td>\n",
       "      <td>1</td>\n",
       "    </tr>\n",
       "    <tr>\n",
       "      <th>55</th>\n",
       "      <td>Mujer</td>\n",
       "      <td>54</td>\n",
       "      <td>1</td>\n",
       "    </tr>\n",
       "  </tbody>\n",
       "</table>\n",
       "</div>"
      ],
      "text/plain": [
       "      sexo  edad  Count\n",
       "0   Hombre    17      1\n",
       "1   Hombre    18      3\n",
       "2   Hombre    19      5\n",
       "3   Hombre    20     10\n",
       "4   Hombre    21     12\n",
       "5   Hombre    22      3\n",
       "6   Hombre    23      4\n",
       "7   Hombre    24      3\n",
       "8   Hombre    25      9\n",
       "9   Hombre    26      6\n",
       "10  Hombre    27      2\n",
       "11  Hombre    28      5\n",
       "12  Hombre    29      4\n",
       "13  Hombre    30     11\n",
       "14  Hombre    31      1\n",
       "15  Hombre    32      2\n",
       "16  Hombre    33      9\n",
       "17  Hombre    34      2\n",
       "18  Hombre    35      5\n",
       "19  Hombre    36      2\n",
       "20  Hombre    37      1\n",
       "21  Hombre    38      1\n",
       "22  Hombre    39      2\n",
       "23  Hombre    40      7\n",
       "24  Hombre    41      1\n",
       "25  Hombre    42      1\n",
       "26  Hombre    43      2\n",
       "27  Hombre    45      3\n",
       "28  Hombre    46      1\n",
       "29  Hombre    49      1\n",
       "30  Hombre    50      1\n",
       "31   Mujer    17      3\n",
       "32   Mujer    18      2\n",
       "33   Mujer    19      7\n",
       "34   Mujer    20     10\n",
       "35   Mujer    21      1\n",
       "36   Mujer    22      6\n",
       "37   Mujer    23      7\n",
       "38   Mujer    24      5\n",
       "39   Mujer    25      8\n",
       "40   Mujer    26      3\n",
       "41   Mujer    27      4\n",
       "42   Mujer    28      2\n",
       "43   Mujer    29      2\n",
       "44   Mujer    30     12\n",
       "45   Mujer    31      3\n",
       "46   Mujer    32      6\n",
       "47   Mujer    33      3\n",
       "48   Mujer    34      2\n",
       "49   Mujer    35      1\n",
       "50   Mujer    36      2\n",
       "51   Mujer    37      3\n",
       "52   Mujer    38      5\n",
       "53   Mujer    40      3\n",
       "54   Mujer    47      1\n",
       "55   Mujer    54      1"
      ]
     },
     "execution_count": 87,
     "metadata": {},
     "output_type": "execute_result"
    }
   ],
   "source": [
    "data.groupby(['sexo','edad']).size().reset_index().rename(columns={0:'Count'})"
   ]
  },
  {
   "cell_type": "code",
   "execution_count": null,
   "id": "3feb36d6",
   "metadata": {},
   "outputs": [
    {
     "name": "stdout",
     "output_type": "stream",
     "text": [
      "cantidad de estudiantes que aceptan la modalidad virtual: 10\n",
      "cantidad de estudiantes que no aceptan la modalidad virtual: 212\n"
     ]
    }
   ],
   "source": [
    "# Contar la cantidad de personas que dijeron sí y no\n",
    "acepta_count = data['acepta'].value_counts()\n",
    "print(\"cantidad de estudiantes que aceptan la modalidad virtual:\", acepta_count[1])\n",
    "print(\"cantidad de estudiantes que no aceptan la modalidad virtual:\", acepta_count[0])"
   ]
  },
  {
   "cell_type": "code",
   "execution_count": null,
   "id": "c9e3a9e7",
   "metadata": {},
   "outputs": [],
   "source": [
    "#Veamos inicialmente el comportamiento de las variables numéricas ('age' )"
   ]
  },
  {
   "cell_type": "code",
   "execution_count": null,
   "id": "4d92d5b3",
   "metadata": {},
   "outputs": [
    {
     "data": {
      "text/html": [
       "<div>\n",
       "<style scoped>\n",
       "    .dataframe tbody tr th:only-of-type {\n",
       "        vertical-align: middle;\n",
       "    }\n",
       "\n",
       "    .dataframe tbody tr th {\n",
       "        vertical-align: top;\n",
       "    }\n",
       "\n",
       "    .dataframe thead th {\n",
       "        text-align: right;\n",
       "    }\n",
       "</style>\n",
       "<table border=\"1\" class=\"dataframe\">\n",
       "  <thead>\n",
       "    <tr style=\"text-align: right;\">\n",
       "      <th></th>\n",
       "      <th>Unnamed: 0</th>\n",
       "      <th>edad</th>\n",
       "    </tr>\n",
       "  </thead>\n",
       "  <tbody>\n",
       "    <tr>\n",
       "      <th>count</th>\n",
       "      <td>222.000000</td>\n",
       "      <td>222.000000</td>\n",
       "    </tr>\n",
       "    <tr>\n",
       "      <th>mean</th>\n",
       "      <td>119.896396</td>\n",
       "      <td>28.166667</td>\n",
       "    </tr>\n",
       "    <tr>\n",
       "      <th>std</th>\n",
       "      <td>67.424522</td>\n",
       "      <td>7.556374</td>\n",
       "    </tr>\n",
       "    <tr>\n",
       "      <th>min</th>\n",
       "      <td>0.000000</td>\n",
       "      <td>17.000000</td>\n",
       "    </tr>\n",
       "    <tr>\n",
       "      <th>25%</th>\n",
       "      <td>63.250000</td>\n",
       "      <td>22.000000</td>\n",
       "    </tr>\n",
       "    <tr>\n",
       "      <th>50%</th>\n",
       "      <td>121.500000</td>\n",
       "      <td>27.000000</td>\n",
       "    </tr>\n",
       "    <tr>\n",
       "      <th>75%</th>\n",
       "      <td>177.750000</td>\n",
       "      <td>33.000000</td>\n",
       "    </tr>\n",
       "    <tr>\n",
       "      <th>max</th>\n",
       "      <td>234.000000</td>\n",
       "      <td>54.000000</td>\n",
       "    </tr>\n",
       "  </tbody>\n",
       "</table>\n",
       "</div>"
      ],
      "text/plain": [
       "       Unnamed: 0        edad\n",
       "count  222.000000  222.000000\n",
       "mean   119.896396   28.166667\n",
       "std     67.424522    7.556374\n",
       "min      0.000000   17.000000\n",
       "25%     63.250000   22.000000\n",
       "50%    121.500000   27.000000\n",
       "75%    177.750000   33.000000\n",
       "max    234.000000   54.000000"
      ]
     },
     "execution_count": 102,
     "metadata": {},
     "output_type": "execute_result"
    }
   ],
   "source": [
    "# Podemos extraer algunas variables estadísticas descriptivas básicas\n",
    "data.describe()"
   ]
  },
  {
   "cell_type": "code",
   "execution_count": null,
   "id": "ef2bab04",
   "metadata": {},
   "outputs": [
    {
     "data": {
      "image/png": "[encoded data removed]",
      "text/plain": [
       "<Figure size 1500x500 with 2 Axes>"
      ]
     },
     "metadata": {},
     "output_type": "display_data"
    }
   ],
   "source": [
    "# Pero muchas veces es más útil graficar dichas variables\n",
    "\n",
    "# Dibujar histogramas\n",
    "col_num = ['edad',]\n",
    "\n",
    "fig, ax = plt.subplots(nrows=1, ncols=2, figsize=(15,5))\n",
    "fig.subplots_adjust(hspace=0.5)\n",
    "\n",
    "for i, col in enumerate(col_num):\n",
    "    if col == 'edad':\n",
    "        nbins = 10\n",
    "    else:\n",
    "        nbins = 50\n",
    "    sns.histplot(x=col, data=data, ax=ax[i], bins=nbins, kde = True)\n",
    "    ax[i].set_title(col)"
   ]
  },
  {
   "cell_type": "markdown",
   "id": "d43664e0",
   "metadata": {},
   "source": [
    "#histogramas"
   ]
  },
  {
   "cell_type": "markdown",
   "id": "fc762a47",
   "metadata": {},
   "source": [
    "La mayor parte del grupo de estudiantes  encuestados estaban entre los 15 y 35 años con sesgo 40 a 55 años"
   ]
  },
  {
   "cell_type": "markdown",
   "id": "e5e28468",
   "metadata": {},
   "source": [
    "#3. . Descubrir posibles relaciones entre variables (Ej. en el caso del titanic como se relaciona el sexo con la supervivencia) ideal(Obligatorio) si pueden combinar más de 2 variables para el análisis (Ej. Sexo, Supervivencia y Clase del Ticket)"
   ]
  },
  {
   "cell_type": "code",
   "execution_count": null,
   "id": "00493505",
   "metadata": {},
   "outputs": [
    {
     "name": "stdout",
     "output_type": "stream",
     "text": [
      "cantidad de estudiantes que aceptan la modalidad virtual: 212\n",
      "cantidad de estudiantes que no aceptan la modalidad virtual: 10\n"
     ]
    }
   ],
   "source": [
    "# Contar la cantidad de personas que dijeron sí y no\n",
    "acepta_count = data['acepta'].value_counts()\n",
    "print(\"cantidad de estudiantes que aceptan la modalidad virtual:\", acepta_count[0])\n",
    "print(\"cantidad de estudiantes que no aceptan la modalidad virtual:\", acepta_count[1])"
   ]
  },
  {
   "cell_type": "code",
   "execution_count": null,
   "id": "f534a7e0",
   "metadata": {},
   "outputs": [
    {
     "data": {
      "text/plain": [
       "Text(0.5, 1.0, 'Razones negativas por las que los estudiantes no aceptarían las clases virtuales')"
      ]
     },
     "execution_count": 125,
     "metadata": {},
     "output_type": "execute_result"
    },
    {
     "data": {
      "image/png": "[encoded data removed]",
      "text/plain": [
       "<Figure size 1200x800 with 1 Axes>"
      ]
     },
     "metadata": {},
     "output_type": "display_data"
    }
   ],
   "source": [
    "# Filtrar los registros que indican que los estudiantes no aceptarían las clases virtuales\n",
    "rechazos = data[data['acepta'] == 'No']\n",
    "\n",
    "# Contar las razones negativas por las que los estudiantes no aceptarían las clases virtuales\n",
    "razones_negativas = rechazos['negativo'].value_counts()\n",
    "\n",
    "# Graficar los resultados\n",
    "plt.figure(figsize=(12, 8))\n",
    "sns.barplot(x=razones_negativas.index, y=razones_negativas.values)\n",
    "plt.title('Razones negativas por las que los estudiantes no aceptarían las clases virtuales')"
   ]
  },
  {
   "cell_type": "code",
   "execution_count": null,
   "id": "f557b04a",
   "metadata": {},
   "outputs": [
    {
     "data": {
      "text/plain": [
       "sexo    trabajo \n",
       "Hombre  Eventual    31\n",
       "        No           5\n",
       "        Sí          84\n",
       "Mujer   Eventual    22\n",
       "        No          12\n",
       "        Sí          68\n",
       "dtype: int64"
      ]
     },
     "execution_count": 130,
     "metadata": {},
     "output_type": "execute_result"
    }
   ],
   "source": [
    "data.groupby(['sexo','trabajo']).size()"
   ]
  },
  {
   "cell_type": "code",
   "execution_count": null,
   "id": "92b36a98",
   "metadata": {},
   "outputs": [
    {
     "data": {
      "image/png": "[encoded data removed]",
      "text/plain": [
       "<Figure size 640x480 with 1 Axes>"
      ]
     },
     "metadata": {},
     "output_type": "display_data"
    }
   ],
   "source": [
    "# Gráfico de barras de la aceptación de la modalidad virtual por carrera\n",
    "sns.countplot(x='carrera', hue='acepta', data=data)\n",
    "\n",
    "# Rotar etiquetas del eje x para que no se superpongan\n",
    "plt.xticks(rotation=90)\n",
    "\n",
    "# Agregar título y etiquetas de los ejes\n",
    "plt.title(\"Aceptación de la modalidad virtual por carrera\")\n",
    "plt.xlabel(\"Carrera universitaria\")\n",
    "plt.ylabel(\"Número de estudiantes\")\n",
    "\n",
    "# Mostrar gráfico\n",
    "plt.show()"
   ]
  },
  {
   "cell_type": "code",
   "execution_count": null,
   "id": "505654a1",
   "metadata": {},
   "outputs": [
    {
     "data": {
      "image/png": "[encoded data removed]",
      "text/plain": [
       "<Figure size 600x600 with 1 Axes>"
      ]
     },
     "metadata": {},
     "output_type": "display_data"
    }
   ],
   "source": [
    "# Gráfico de tarta de pasajeros del Titanic\n",
    "plot = data['acepta'].value_counts().plot(kind='pie', autopct='%.2f', \n",
    "                                            figsize=(6, 6),\n",
    "                                            title='estudiantes de la universidad')\n",
    "\n"
   ]
  },
  {
   "cell_type": "code",
   "execution_count": null,
   "id": "4feee8a9",
   "metadata": {},
   "outputs": [
    {
     "data": {
      "image/png": "[encoded data removed]",
      "text/plain": [
       "<Figure size 640x480 with 1 Axes>"
      ]
     },
     "metadata": {},
     "output_type": "display_data"
    }
   ],
   "source": [
    "# Gráfico de barras de la aceptación de la modalidad virtual por carrera\n",
    "sns.countplot(x='acepta', hue='acepta', data=data)\n",
    "\n",
    "# Rotar etiquetas del eje x para que no se superpongan\n",
    "plt.xticks(rotation=90)\n",
    "\n",
    "# Agregar título y etiquetas de los ejes\n",
    "plt.title(\"Aceptación de la modalidad virtual por carrera\")\n",
    "plt.xlabel(\"Carrera universitaria\")\n",
    "plt.ylabel(\"Número de estudiantes\")\n",
    "\n",
    "# Mostrar gráfico\n",
    "plt.show()"
   ]
  },
  {
   "cell_type": "code",
   "execution_count": null,
   "id": "6623e888",
   "metadata": {},
   "outputs": [
    {
     "data": {
      "text/html": [
       "<div>\n",
       "<style scoped>\n",
       "    .dataframe tbody tr th:only-of-type {\n",
       "        vertical-align: middle;\n",
       "    }\n",
       "\n",
       "    .dataframe tbody tr th {\n",
       "        vertical-align: top;\n",
       "    }\n",
       "\n",
       "    .dataframe thead th {\n",
       "        text-align: right;\n",
       "    }\n",
       "</style>\n",
       "<table border=\"1\" class=\"dataframe\">\n",
       "  <thead>\n",
       "    <tr style=\"text-align: right;\">\n",
       "      <th>trabajo</th>\n",
       "      <th>Eventual</th>\n",
       "      <th>No</th>\n",
       "      <th>Sí</th>\n",
       "      <th>All</th>\n",
       "    </tr>\n",
       "    <tr>\n",
       "      <th>carrera</th>\n",
       "      <th></th>\n",
       "      <th></th>\n",
       "      <th></th>\n",
       "      <th></th>\n",
       "    </tr>\n",
       "  </thead>\n",
       "  <tbody>\n",
       "    <tr>\n",
       "      <th>Administración de Empresas</th>\n",
       "      <td>1</td>\n",
       "      <td>0</td>\n",
       "      <td>7</td>\n",
       "      <td>8</td>\n",
       "    </tr>\n",
       "    <tr>\n",
       "      <th>Artes Plásticas</th>\n",
       "      <td>1</td>\n",
       "      <td>0</td>\n",
       "      <td>2</td>\n",
       "      <td>3</td>\n",
       "    </tr>\n",
       "    <tr>\n",
       "      <th>Ciencias Físicas y Energías Alternativas</th>\n",
       "      <td>5</td>\n",
       "      <td>0</td>\n",
       "      <td>3</td>\n",
       "      <td>8</td>\n",
       "    </tr>\n",
       "    <tr>\n",
       "      <th>Ciencias Políticas</th>\n",
       "      <td>1</td>\n",
       "      <td>0</td>\n",
       "      <td>2</td>\n",
       "      <td>3</td>\n",
       "    </tr>\n",
       "    <tr>\n",
       "      <th>Ciencias de la Educación</th>\n",
       "      <td>1</td>\n",
       "      <td>4</td>\n",
       "      <td>8</td>\n",
       "      <td>13</td>\n",
       "    </tr>\n",
       "    <tr>\n",
       "      <th>Comercio Internacional</th>\n",
       "      <td>1</td>\n",
       "      <td>0</td>\n",
       "      <td>6</td>\n",
       "      <td>7</td>\n",
       "    </tr>\n",
       "    <tr>\n",
       "      <th>Contaduría Pública</th>\n",
       "      <td>2</td>\n",
       "      <td>1</td>\n",
       "      <td>10</td>\n",
       "      <td>13</td>\n",
       "    </tr>\n",
       "    <tr>\n",
       "      <th>Derecho</th>\n",
       "      <td>10</td>\n",
       "      <td>2</td>\n",
       "      <td>21</td>\n",
       "      <td>33</td>\n",
       "    </tr>\n",
       "    <tr>\n",
       "      <th>Economía</th>\n",
       "      <td>1</td>\n",
       "      <td>0</td>\n",
       "      <td>3</td>\n",
       "      <td>4</td>\n",
       "    </tr>\n",
       "    <tr>\n",
       "      <th>Educación Parvularia</th>\n",
       "      <td>0</td>\n",
       "      <td>0</td>\n",
       "      <td>3</td>\n",
       "      <td>3</td>\n",
       "    </tr>\n",
       "    <tr>\n",
       "      <th>Gestión Turística y Hotelera</th>\n",
       "      <td>1</td>\n",
       "      <td>0</td>\n",
       "      <td>4</td>\n",
       "      <td>5</td>\n",
       "    </tr>\n",
       "    <tr>\n",
       "      <th>Historia</th>\n",
       "      <td>2</td>\n",
       "      <td>0</td>\n",
       "      <td>0</td>\n",
       "      <td>2</td>\n",
       "    </tr>\n",
       "    <tr>\n",
       "      <th>Ingeniería Agronómica</th>\n",
       "      <td>1</td>\n",
       "      <td>1</td>\n",
       "      <td>4</td>\n",
       "      <td>6</td>\n",
       "    </tr>\n",
       "    <tr>\n",
       "      <th>Ingeniería de Sistemas</th>\n",
       "      <td>14</td>\n",
       "      <td>5</td>\n",
       "      <td>37</td>\n",
       "      <td>56</td>\n",
       "    </tr>\n",
       "    <tr>\n",
       "      <th>Lingüística e Idiomas</th>\n",
       "      <td>2</td>\n",
       "      <td>0</td>\n",
       "      <td>6</td>\n",
       "      <td>8</td>\n",
       "    </tr>\n",
       "    <tr>\n",
       "      <th>Nutrición y Dietética</th>\n",
       "      <td>0</td>\n",
       "      <td>0</td>\n",
       "      <td>2</td>\n",
       "      <td>2</td>\n",
       "    </tr>\n",
       "    <tr>\n",
       "      <th>Otra</th>\n",
       "      <td>7</td>\n",
       "      <td>3</td>\n",
       "      <td>16</td>\n",
       "      <td>26</td>\n",
       "    </tr>\n",
       "    <tr>\n",
       "      <th>Psicología</th>\n",
       "      <td>3</td>\n",
       "      <td>1</td>\n",
       "      <td>9</td>\n",
       "      <td>13</td>\n",
       "    </tr>\n",
       "    <tr>\n",
       "      <th>Sociología</th>\n",
       "      <td>0</td>\n",
       "      <td>0</td>\n",
       "      <td>1</td>\n",
       "      <td>1</td>\n",
       "    </tr>\n",
       "    <tr>\n",
       "      <th>Trabajo Social</th>\n",
       "      <td>0</td>\n",
       "      <td>0</td>\n",
       "      <td>8</td>\n",
       "      <td>8</td>\n",
       "    </tr>\n",
       "    <tr>\n",
       "      <th>All</th>\n",
       "      <td>53</td>\n",
       "      <td>17</td>\n",
       "      <td>152</td>\n",
       "      <td>222</td>\n",
       "    </tr>\n",
       "  </tbody>\n",
       "</table>\n",
       "</div>"
      ],
      "text/plain": [
       "trabajo                                   Eventual  No   Sí  All\n",
       "carrera                                                         \n",
       "Administración de Empresas                       1   0    7    8\n",
       "Artes Plásticas                                  1   0    2    3\n",
       "Ciencias Físicas y Energías Alternativas         5   0    3    8\n",
       "Ciencias Políticas                               1   0    2    3\n",
       "Ciencias de la Educación                         1   4    8   13\n",
       "Comercio Internacional                           1   0    6    7\n",
       "Contaduría Pública                               2   1   10   13\n",
       "Derecho                                         10   2   21   33\n",
       "Economía                                         1   0    3    4\n",
       "Educación Parvularia                             0   0    3    3\n",
       "Gestión Turística y Hotelera                     1   0    4    5\n",
       "Historia                                         2   0    0    2\n",
       "Ingeniería Agronómica                            1   1    4    6\n",
       "Ingeniería de Sistemas                          14   5   37   56\n",
       "Lingüística e Idiomas                            2   0    6    8\n",
       "Nutrición y Dietética                            0   0    2    2\n",
       "Otra                                             7   3   16   26\n",
       "Psicología                                       3   1    9   13\n",
       "Sociología                                       0   0    1    1\n",
       "Trabajo Social                                   0   0    8    8\n",
       "All                                             53  17  152  222"
      ]
     },
     "execution_count": 137,
     "metadata": {},
     "output_type": "execute_result"
    }
   ],
   "source": [
    "# Tabla de contingencia class / survived\n",
    "pd.crosstab(index=data['carrera'],\n",
    "            columns=data['trabajo'], margins=True)"
   ]
  },
  {
   "cell_type": "code",
   "execution_count": null,
   "id": "2fad62df",
   "metadata": {},
   "outputs": [
    {
     "data": {
      "text/plain": [
       "Conexión a internet.                                    88\n",
       "Contacto Personal Docente-Estudiantil.                  83\n",
       "Falta de recursos de calidad(plataformas, docentes).    51\n",
       "Name: negativo, dtype: int64"
      ]
     },
     "execution_count": 142,
     "metadata": {},
     "output_type": "execute_result"
    }
   ],
   "source": [
    "pd.value_counts(data['negativo'])"
   ]
  },
  {
   "cell_type": "code",
   "execution_count": null,
   "id": "a2dd4965",
   "metadata": {},
   "outputs": [
    {
     "data": {
      "text/plain": [
       "2020-11-09    42\n",
       "2020-11-22    23\n",
       "2020-11-10    23\n",
       "2020-12-08    23\n",
       "2020-11-08    18\n",
       "2020-11-27    18\n",
       "2020-11-13     9\n",
       "2020-11-19     8\n",
       "2020-11-20     8\n",
       "2020-11-14     7\n",
       "2020-11-23     6\n",
       "2020-11-24     6\n",
       "2020-11-26     5\n",
       "2020-11-11     3\n",
       "2020-12-09     3\n",
       "2020-12-11     3\n",
       "2020-11-18     2\n",
       "2020-11-17     2\n",
       "2020-11-15     2\n",
       "2020-11-28     2\n",
       "2020-11-30     2\n",
       "2020-12-10     2\n",
       "2020-11-25     1\n",
       "2020-11-29     1\n",
       "2020-12-06     1\n",
       "2020-12-07     1\n",
       "2020-12-12     1\n",
       "Name: time, dtype: int64"
      ]
     },
     "execution_count": 143,
     "metadata": {},
     "output_type": "execute_result"
    }
   ],
   "source": [
    "pd.value_counts(data['time'])"
   ]
  },
  {
   "cell_type": "code",
   "execution_count": null,
   "id": "3f179269",
   "metadata": {},
   "outputs": [
    {
     "data": {
      "text/plain": [
       "Horario flexible.                112\n",
       "Acceso desde cualquier lugar.     92\n",
       "Autonomía.                        18\n",
       "Name: positivo, dtype: int64"
      ]
     },
     "execution_count": 144,
     "metadata": {},
     "output_type": "execute_result"
    }
   ],
   "source": [
    "pd.value_counts(data['positivo'])"
   ]
  },
  {
   "cell_type": "code",
   "execution_count": null,
   "id": "cdd732d4",
   "metadata": {},
   "outputs": [
    {
     "data": {
      "text/plain": [
       "Si    212\n",
       "No     10\n",
       "Name: acepta, dtype: int64"
      ]
     },
     "execution_count": 146,
     "metadata": {},
     "output_type": "execute_result"
    }
   ],
   "source": [
    "pd.value_counts(data['acepta'])"
   ]
  },
  {
   "cell_type": "code",
   "execution_count": null,
   "id": "0798a9f8",
   "metadata": {},
   "outputs": [
    {
     "data": {
      "text/plain": [
       "Sí          68.468468\n",
       "Eventual    23.873874\n",
       "No           7.657658\n",
       "Name: trabajo, dtype: float64"
      ]
     },
     "execution_count": 151,
     "metadata": {},
     "output_type": "execute_result"
    }
   ],
   "source": [
    "# tabla de frecuencia relativa de los estudiantes\n",
    "100 * data['trabajo'].value_counts() / len(data['trabajo'])"
   ]
  },
  {
   "cell_type": "code",
   "execution_count": null,
   "id": "277aa18f",
   "metadata": {},
   "outputs": [
    {
     "name": "stdout",
     "output_type": "stream",
     "text": [
      "Unnamed: 0                                         0\n",
      "time                                      2020-11-08\n",
      "carrera                       Ingeniería de Sistemas\n",
      "acepta                                            Si\n",
      "positivo                           Horario flexible.\n",
      "negativo      Contacto Personal Docente-Estudiantil.\n",
      "edad                                              20\n",
      "sexo                                          Hombre\n",
      "trabajo                                     Eventual\n",
      "Name: 0, dtype: object\n"
     ]
    }
   ],
   "source": [
    "print (data.iloc[0])"
   ]
  },
  {
   "cell_type": "code",
   "execution_count": null,
   "id": "5e8deaf8",
   "metadata": {},
   "outputs": [
    {
     "name": "stdout",
     "output_type": "stream",
     "text": [
      "                          carrera  edad\n",
      "0          Ingeniería de Sistemas    20\n",
      "1                      Psicología    26\n",
      "2          Ingeniería de Sistemas    20\n",
      "3          Ingeniería de Sistemas    18\n",
      "4          Ingeniería de Sistemas    39\n",
      "..                            ...   ...\n",
      "217  Gestión Turística y Hotelera    19\n",
      "218        Ingeniería de Sistemas    23\n",
      "219  Gestión Turística y Hotelera    25\n",
      "220         Ingeniería Agronómica    20\n",
      "221        Comercio Internacional    23\n",
      "\n",
      "[222 rows x 2 columns]\n"
     ]
    }
   ],
   "source": [
    "print (data[['carrera','edad']])"
   ]
  },
  {
   "cell_type": "code",
   "execution_count": null,
   "id": "7541b291",
   "metadata": {},
   "outputs": [
    {
     "name": "stdout",
     "output_type": "stream",
     "text": [
      "6253\n"
     ]
    }
   ],
   "source": [
    "#suma de las columna \n",
    "print(sum(data['edad']))"
   ]
  },
  {
   "cell_type": "code",
   "execution_count": null,
   "id": "c258dc14",
   "metadata": {},
   "outputs": [
    {
     "data": {
      "text/plain": [
       "Unnamed: 0     int64\n",
       "time          object\n",
       "carrera       object\n",
       "acepta        object\n",
       "positivo      object\n",
       "negativo      object\n",
       "edad           int64\n",
       "sexo          object\n",
       "trabajo       object\n",
       "dtype: object"
      ]
     },
     "execution_count": 171,
     "metadata": {},
     "output_type": "execute_result"
    }
   ],
   "source": [
    "data.dtypes"
   ]
  },
  {
   "cell_type": "code",
   "execution_count": null,
   "id": "261d2e7d",
   "metadata": {},
   "outputs": [
    {
     "data": {
      "text/plain": [
       "count    222.000000\n",
       "mean      28.166667\n",
       "std        7.556374\n",
       "min       17.000000\n",
       "25%       22.000000\n",
       "50%       27.000000\n",
       "75%       33.000000\n",
       "max       54.000000\n",
       "Name: edad, dtype: float64"
      ]
     },
     "execution_count": 173,
     "metadata": {},
     "output_type": "execute_result"
    }
   ],
   "source": [
    "data['edad'].describe()"
   ]
  },
  {
   "cell_type": "code",
   "execution_count": null,
   "id": "e9da0c8b",
   "metadata": {},
   "outputs": [
    {
     "data": {
      "text/plain": [
       "count            222\n",
       "unique            27\n",
       "top       2020-11-09\n",
       "freq              42\n",
       "Name: time, dtype: object"
      ]
     },
     "execution_count": 176,
     "metadata": {},
     "output_type": "execute_result"
    }
   ],
   "source": [
    "data['time'].describe()"
   ]
  },
  {
   "cell_type": "markdown",
   "id": "9e0b7000",
   "metadata": {},
   "source": [
    "@cuales fueron las carreras mas aceptadas."
   ]
  },
  {
   "cell_type": "code",
   "execution_count": null,
   "id": "c8905666",
   "metadata": {},
   "outputs": [
    {
     "data": {
      "text/html": [
       "<div>\n",
       "<style scoped>\n",
       "    .dataframe tbody tr th:only-of-type {\n",
       "        vertical-align: middle;\n",
       "    }\n",
       "\n",
       "    .dataframe tbody tr th {\n",
       "        vertical-align: top;\n",
       "    }\n",
       "\n",
       "    .dataframe thead tr th {\n",
       "        text-align: left;\n",
       "    }\n",
       "\n",
       "    .dataframe thead tr:last-of-type th {\n",
       "        text-align: right;\n",
       "    }\n",
       "</style>\n",
       "<table border=\"1\" class=\"dataframe\">\n",
       "  <thead>\n",
       "    <tr>\n",
       "      <th></th>\n",
       "      <th colspan=\"8\" halign=\"left\">Unnamed: 0</th>\n",
       "      <th colspan=\"8\" halign=\"left\">edad</th>\n",
       "    </tr>\n",
       "    <tr>\n",
       "      <th></th>\n",
       "      <th>count</th>\n",
       "      <th>mean</th>\n",
       "      <th>std</th>\n",
       "      <th>min</th>\n",
       "      <th>25%</th>\n",
       "      <th>50%</th>\n",
       "      <th>75%</th>\n",
       "      <th>max</th>\n",
       "      <th>count</th>\n",
       "      <th>mean</th>\n",
       "      <th>std</th>\n",
       "      <th>min</th>\n",
       "      <th>25%</th>\n",
       "      <th>50%</th>\n",
       "      <th>75%</th>\n",
       "      <th>max</th>\n",
       "    </tr>\n",
       "    <tr>\n",
       "      <th>carrera</th>\n",
       "      <th></th>\n",
       "      <th></th>\n",
       "      <th></th>\n",
       "      <th></th>\n",
       "      <th></th>\n",
       "      <th></th>\n",
       "      <th></th>\n",
       "      <th></th>\n",
       "      <th></th>\n",
       "      <th></th>\n",
       "      <th></th>\n",
       "      <th></th>\n",
       "      <th></th>\n",
       "      <th></th>\n",
       "      <th></th>\n",
       "      <th></th>\n",
       "    </tr>\n",
       "  </thead>\n",
       "  <tbody>\n",
       "    <tr>\n",
       "      <th>Administración de Empresas</th>\n",
       "      <td>8.0</td>\n",
       "      <td>112.375000</td>\n",
       "      <td>64.471339</td>\n",
       "      <td>18.0</td>\n",
       "      <td>86.75</td>\n",
       "      <td>113.5</td>\n",
       "      <td>149.00</td>\n",
       "      <td>193.0</td>\n",
       "      <td>8.0</td>\n",
       "      <td>25.375000</td>\n",
       "      <td>4.565007</td>\n",
       "      <td>19.0</td>\n",
       "      <td>21.75</td>\n",
       "      <td>25.5</td>\n",
       "      <td>29.00</td>\n",
       "      <td>32.0</td>\n",
       "    </tr>\n",
       "    <tr>\n",
       "      <th>Artes Plásticas</th>\n",
       "      <td>3.0</td>\n",
       "      <td>133.333333</td>\n",
       "      <td>97.325913</td>\n",
       "      <td>23.0</td>\n",
       "      <td>96.50</td>\n",
       "      <td>170.0</td>\n",
       "      <td>188.50</td>\n",
       "      <td>207.0</td>\n",
       "      <td>3.0</td>\n",
       "      <td>30.000000</td>\n",
       "      <td>10.000000</td>\n",
       "      <td>20.0</td>\n",
       "      <td>25.00</td>\n",
       "      <td>30.0</td>\n",
       "      <td>35.00</td>\n",
       "      <td>40.0</td>\n",
       "    </tr>\n",
       "    <tr>\n",
       "      <th>Ciencias Físicas y Energías Alternativas</th>\n",
       "      <td>8.0</td>\n",
       "      <td>120.375000</td>\n",
       "      <td>60.850960</td>\n",
       "      <td>12.0</td>\n",
       "      <td>99.50</td>\n",
       "      <td>138.5</td>\n",
       "      <td>150.00</td>\n",
       "      <td>196.0</td>\n",
       "      <td>8.0</td>\n",
       "      <td>26.500000</td>\n",
       "      <td>4.566962</td>\n",
       "      <td>18.0</td>\n",
       "      <td>25.00</td>\n",
       "      <td>25.5</td>\n",
       "      <td>30.00</td>\n",
       "      <td>33.0</td>\n",
       "    </tr>\n",
       "    <tr>\n",
       "      <th>Ciencias Políticas</th>\n",
       "      <td>3.0</td>\n",
       "      <td>157.000000</td>\n",
       "      <td>32.046841</td>\n",
       "      <td>120.0</td>\n",
       "      <td>147.50</td>\n",
       "      <td>175.0</td>\n",
       "      <td>175.50</td>\n",
       "      <td>176.0</td>\n",
       "      <td>3.0</td>\n",
       "      <td>38.666667</td>\n",
       "      <td>7.505553</td>\n",
       "      <td>30.0</td>\n",
       "      <td>36.50</td>\n",
       "      <td>43.0</td>\n",
       "      <td>43.00</td>\n",
       "      <td>43.0</td>\n",
       "    </tr>\n",
       "    <tr>\n",
       "      <th>Ciencias de la Educación</th>\n",
       "      <td>13.0</td>\n",
       "      <td>125.461538</td>\n",
       "      <td>74.562742</td>\n",
       "      <td>5.0</td>\n",
       "      <td>77.00</td>\n",
       "      <td>157.0</td>\n",
       "      <td>183.00</td>\n",
       "      <td>226.0</td>\n",
       "      <td>13.0</td>\n",
       "      <td>26.153846</td>\n",
       "      <td>7.925130</td>\n",
       "      <td>17.0</td>\n",
       "      <td>20.00</td>\n",
       "      <td>25.0</td>\n",
       "      <td>30.00</td>\n",
       "      <td>46.0</td>\n",
       "    </tr>\n",
       "    <tr>\n",
       "      <th>Comercio Internacional</th>\n",
       "      <td>7.0</td>\n",
       "      <td>189.428571</td>\n",
       "      <td>58.100078</td>\n",
       "      <td>72.0</td>\n",
       "      <td>181.50</td>\n",
       "      <td>213.0</td>\n",
       "      <td>222.00</td>\n",
       "      <td>234.0</td>\n",
       "      <td>7.0</td>\n",
       "      <td>28.857143</td>\n",
       "      <td>10.056981</td>\n",
       "      <td>20.0</td>\n",
       "      <td>22.50</td>\n",
       "      <td>23.0</td>\n",
       "      <td>33.50</td>\n",
       "      <td>47.0</td>\n",
       "    </tr>\n",
       "    <tr>\n",
       "      <th>Contaduría Pública</th>\n",
       "      <td>13.0</td>\n",
       "      <td>120.769231</td>\n",
       "      <td>65.388778</td>\n",
       "      <td>14.0</td>\n",
       "      <td>83.00</td>\n",
       "      <td>121.0</td>\n",
       "      <td>159.00</td>\n",
       "      <td>219.0</td>\n",
       "      <td>13.0</td>\n",
       "      <td>29.461538</td>\n",
       "      <td>7.676972</td>\n",
       "      <td>17.0</td>\n",
       "      <td>24.00</td>\n",
       "      <td>29.0</td>\n",
       "      <td>35.00</td>\n",
       "      <td>41.0</td>\n",
       "    </tr>\n",
       "    <tr>\n",
       "      <th>Derecho</th>\n",
       "      <td>33.0</td>\n",
       "      <td>107.606061</td>\n",
       "      <td>58.845104</td>\n",
       "      <td>19.0</td>\n",
       "      <td>71.00</td>\n",
       "      <td>94.0</td>\n",
       "      <td>164.00</td>\n",
       "      <td>224.0</td>\n",
       "      <td>33.0</td>\n",
       "      <td>32.515152</td>\n",
       "      <td>6.524575</td>\n",
       "      <td>20.0</td>\n",
       "      <td>28.00</td>\n",
       "      <td>33.0</td>\n",
       "      <td>37.00</td>\n",
       "      <td>49.0</td>\n",
       "    </tr>\n",
       "    <tr>\n",
       "      <th>Economía</th>\n",
       "      <td>4.0</td>\n",
       "      <td>111.250000</td>\n",
       "      <td>90.227028</td>\n",
       "      <td>33.0</td>\n",
       "      <td>33.75</td>\n",
       "      <td>106.0</td>\n",
       "      <td>183.50</td>\n",
       "      <td>200.0</td>\n",
       "      <td>4.0</td>\n",
       "      <td>28.250000</td>\n",
       "      <td>7.847505</td>\n",
       "      <td>24.0</td>\n",
       "      <td>24.00</td>\n",
       "      <td>24.5</td>\n",
       "      <td>28.75</td>\n",
       "      <td>40.0</td>\n",
       "    </tr>\n",
       "    <tr>\n",
       "      <th>Educación Parvularia</th>\n",
       "      <td>3.0</td>\n",
       "      <td>143.666667</td>\n",
       "      <td>16.802778</td>\n",
       "      <td>129.0</td>\n",
       "      <td>134.50</td>\n",
       "      <td>140.0</td>\n",
       "      <td>151.00</td>\n",
       "      <td>162.0</td>\n",
       "      <td>3.0</td>\n",
       "      <td>32.333333</td>\n",
       "      <td>4.041452</td>\n",
       "      <td>30.0</td>\n",
       "      <td>30.00</td>\n",
       "      <td>30.0</td>\n",
       "      <td>33.50</td>\n",
       "      <td>37.0</td>\n",
       "    </tr>\n",
       "    <tr>\n",
       "      <th>Gestión Turística y Hotelera</th>\n",
       "      <td>5.0</td>\n",
       "      <td>170.200000</td>\n",
       "      <td>75.539394</td>\n",
       "      <td>46.0</td>\n",
       "      <td>171.00</td>\n",
       "      <td>172.0</td>\n",
       "      <td>230.00</td>\n",
       "      <td>232.0</td>\n",
       "      <td>5.0</td>\n",
       "      <td>23.800000</td>\n",
       "      <td>3.898718</td>\n",
       "      <td>19.0</td>\n",
       "      <td>21.00</td>\n",
       "      <td>25.0</td>\n",
       "      <td>25.00</td>\n",
       "      <td>29.0</td>\n",
       "    </tr>\n",
       "    <tr>\n",
       "      <th>Historia</th>\n",
       "      <td>2.0</td>\n",
       "      <td>62.000000</td>\n",
       "      <td>57.982756</td>\n",
       "      <td>21.0</td>\n",
       "      <td>41.50</td>\n",
       "      <td>62.0</td>\n",
       "      <td>82.50</td>\n",
       "      <td>103.0</td>\n",
       "      <td>2.0</td>\n",
       "      <td>25.000000</td>\n",
       "      <td>7.071068</td>\n",
       "      <td>20.0</td>\n",
       "      <td>22.50</td>\n",
       "      <td>25.0</td>\n",
       "      <td>27.50</td>\n",
       "      <td>30.0</td>\n",
       "    </tr>\n",
       "    <tr>\n",
       "      <th>Ingeniería Agronómica</th>\n",
       "      <td>6.0</td>\n",
       "      <td>173.333333</td>\n",
       "      <td>69.177067</td>\n",
       "      <td>62.0</td>\n",
       "      <td>134.00</td>\n",
       "      <td>202.0</td>\n",
       "      <td>222.75</td>\n",
       "      <td>233.0</td>\n",
       "      <td>6.0</td>\n",
       "      <td>27.166667</td>\n",
       "      <td>6.911343</td>\n",
       "      <td>20.0</td>\n",
       "      <td>23.00</td>\n",
       "      <td>24.5</td>\n",
       "      <td>31.25</td>\n",
       "      <td>38.0</td>\n",
       "    </tr>\n",
       "    <tr>\n",
       "      <th>Ingeniería de Sistemas</th>\n",
       "      <td>56.0</td>\n",
       "      <td>95.125000</td>\n",
       "      <td>67.756801</td>\n",
       "      <td>0.0</td>\n",
       "      <td>48.75</td>\n",
       "      <td>75.0</td>\n",
       "      <td>148.50</td>\n",
       "      <td>231.0</td>\n",
       "      <td>56.0</td>\n",
       "      <td>26.375000</td>\n",
       "      <td>7.533109</td>\n",
       "      <td>18.0</td>\n",
       "      <td>20.00</td>\n",
       "      <td>23.5</td>\n",
       "      <td>33.00</td>\n",
       "      <td>45.0</td>\n",
       "    </tr>\n",
       "    <tr>\n",
       "      <th>Lingüística e Idiomas</th>\n",
       "      <td>8.0</td>\n",
       "      <td>132.500000</td>\n",
       "      <td>80.826092</td>\n",
       "      <td>24.0</td>\n",
       "      <td>62.50</td>\n",
       "      <td>155.5</td>\n",
       "      <td>194.75</td>\n",
       "      <td>218.0</td>\n",
       "      <td>8.0</td>\n",
       "      <td>34.250000</td>\n",
       "      <td>12.464235</td>\n",
       "      <td>19.0</td>\n",
       "      <td>24.75</td>\n",
       "      <td>32.5</td>\n",
       "      <td>40.25</td>\n",
       "      <td>54.0</td>\n",
       "    </tr>\n",
       "    <tr>\n",
       "      <th>Nutrición y Dietética</th>\n",
       "      <td>2.0</td>\n",
       "      <td>144.000000</td>\n",
       "      <td>56.568542</td>\n",
       "      <td>104.0</td>\n",
       "      <td>124.00</td>\n",
       "      <td>144.0</td>\n",
       "      <td>164.00</td>\n",
       "      <td>184.0</td>\n",
       "      <td>2.0</td>\n",
       "      <td>31.500000</td>\n",
       "      <td>4.949747</td>\n",
       "      <td>28.0</td>\n",
       "      <td>29.75</td>\n",
       "      <td>31.5</td>\n",
       "      <td>33.25</td>\n",
       "      <td>35.0</td>\n",
       "    </tr>\n",
       "    <tr>\n",
       "      <th>Otra</th>\n",
       "      <td>26.0</td>\n",
       "      <td>131.769231</td>\n",
       "      <td>54.295715</td>\n",
       "      <td>39.0</td>\n",
       "      <td>98.25</td>\n",
       "      <td>133.5</td>\n",
       "      <td>177.25</td>\n",
       "      <td>216.0</td>\n",
       "      <td>26.0</td>\n",
       "      <td>24.192308</td>\n",
       "      <td>4.463355</td>\n",
       "      <td>17.0</td>\n",
       "      <td>20.25</td>\n",
       "      <td>23.5</td>\n",
       "      <td>28.00</td>\n",
       "      <td>31.0</td>\n",
       "    </tr>\n",
       "    <tr>\n",
       "      <th>Psicología</th>\n",
       "      <td>13.0</td>\n",
       "      <td>123.000000</td>\n",
       "      <td>72.074036</td>\n",
       "      <td>1.0</td>\n",
       "      <td>86.00</td>\n",
       "      <td>128.0</td>\n",
       "      <td>166.00</td>\n",
       "      <td>228.0</td>\n",
       "      <td>13.0</td>\n",
       "      <td>33.076923</td>\n",
       "      <td>6.277759</td>\n",
       "      <td>21.0</td>\n",
       "      <td>30.00</td>\n",
       "      <td>32.0</td>\n",
       "      <td>37.00</td>\n",
       "      <td>45.0</td>\n",
       "    </tr>\n",
       "    <tr>\n",
       "      <th>Sociología</th>\n",
       "      <td>1.0</td>\n",
       "      <td>131.000000</td>\n",
       "      <td>NaN</td>\n",
       "      <td>131.0</td>\n",
       "      <td>131.00</td>\n",
       "      <td>131.0</td>\n",
       "      <td>131.00</td>\n",
       "      <td>131.0</td>\n",
       "      <td>1.0</td>\n",
       "      <td>28.000000</td>\n",
       "      <td>NaN</td>\n",
       "      <td>28.0</td>\n",
       "      <td>28.00</td>\n",
       "      <td>28.0</td>\n",
       "      <td>28.00</td>\n",
       "      <td>28.0</td>\n",
       "    </tr>\n",
       "    <tr>\n",
       "      <th>Trabajo Social</th>\n",
       "      <td>8.0</td>\n",
       "      <td>135.500000</td>\n",
       "      <td>76.999072</td>\n",
       "      <td>22.0</td>\n",
       "      <td>82.75</td>\n",
       "      <td>119.5</td>\n",
       "      <td>214.25</td>\n",
       "      <td>229.0</td>\n",
       "      <td>8.0</td>\n",
       "      <td>23.875000</td>\n",
       "      <td>4.517822</td>\n",
       "      <td>17.0</td>\n",
       "      <td>21.50</td>\n",
       "      <td>23.5</td>\n",
       "      <td>26.25</td>\n",
       "      <td>30.0</td>\n",
       "    </tr>\n",
       "  </tbody>\n",
       "</table>\n",
       "</div>"
      ],
      "text/plain": [
       "                                         Unnamed: 0                         \\\n",
       "                                              count        mean        std   \n",
       "carrera                                                                      \n",
       "Administración de Empresas                      8.0  112.375000  64.471339   \n",
       "Artes Plásticas                                 3.0  133.333333  97.325913   \n",
       "Ciencias Físicas y Energías Alternativas        8.0  120.375000  60.850960   \n",
       "Ciencias Políticas                              3.0  157.000000  32.046841   \n",
       "Ciencias de la Educación                       13.0  125.461538  74.562742   \n",
       "Comercio Internacional                          7.0  189.428571  58.100078   \n",
       "Contaduría Pública                             13.0  120.769231  65.388778   \n",
       "Derecho                                        33.0  107.606061  58.845104   \n",
       "Economía                                        4.0  111.250000  90.227028   \n",
       "Educación Parvularia                            3.0  143.666667  16.802778   \n",
       "Gestión Turística y Hotelera                    5.0  170.200000  75.539394   \n",
       "Historia                                        2.0   62.000000  57.982756   \n",
       "Ingeniería Agronómica                           6.0  173.333333  69.177067   \n",
       "Ingeniería de Sistemas                         56.0   95.125000  67.756801   \n",
       "Lingüística e Idiomas                           8.0  132.500000  80.826092   \n",
       "Nutrición y Dietética                           2.0  144.000000  56.568542   \n",
       "Otra                                           26.0  131.769231  54.295715   \n",
       "Psicología                                     13.0  123.000000  72.074036   \n",
       "Sociología                                      1.0  131.000000        NaN   \n",
       "Trabajo Social                                  8.0  135.500000  76.999072   \n",
       "\n",
       "                                                                               \\\n",
       "                                            min     25%    50%     75%    max   \n",
       "carrera                                                                         \n",
       "Administración de Empresas                 18.0   86.75  113.5  149.00  193.0   \n",
       "Artes Plásticas                            23.0   96.50  170.0  188.50  207.0   \n",
       "Ciencias Físicas y Energías Alternativas   12.0   99.50  138.5  150.00  196.0   \n",
       "Ciencias Políticas                        120.0  147.50  175.0  175.50  176.0   \n",
       "Ciencias de la Educación                    5.0   77.00  157.0  183.00  226.0   \n",
       "Comercio Internacional                     72.0  181.50  213.0  222.00  234.0   \n",
       "Contaduría Pública                         14.0   83.00  121.0  159.00  219.0   \n",
       "Derecho                                    19.0   71.00   94.0  164.00  224.0   \n",
       "Economía                                   33.0   33.75  106.0  183.50  200.0   \n",
       "Educación Parvularia                      129.0  134.50  140.0  151.00  162.0   \n",
       "Gestión Turística y Hotelera               46.0  171.00  172.0  230.00  232.0   \n",
       "Historia                                   21.0   41.50   62.0   82.50  103.0   \n",
       "Ingeniería Agronómica                      62.0  134.00  202.0  222.75  233.0   \n",
       "Ingeniería de Sistemas                      0.0   48.75   75.0  148.50  231.0   \n",
       "Lingüística e Idiomas                      24.0   62.50  155.5  194.75  218.0   \n",
       "Nutrición y Dietética                     104.0  124.00  144.0  164.00  184.0   \n",
       "Otra                                       39.0   98.25  133.5  177.25  216.0   \n",
       "Psicología                                  1.0   86.00  128.0  166.00  228.0   \n",
       "Sociología                                131.0  131.00  131.0  131.00  131.0   \n",
       "Trabajo Social                             22.0   82.75  119.5  214.25  229.0   \n",
       "\n",
       "                                          edad                              \\\n",
       "                                         count       mean        std   min   \n",
       "carrera                                                                      \n",
       "Administración de Empresas                 8.0  25.375000   4.565007  19.0   \n",
       "Artes Plásticas                            3.0  30.000000  10.000000  20.0   \n",
       "Ciencias Físicas y Energías Alternativas   8.0  26.500000   4.566962  18.0   \n",
       "Ciencias Políticas                         3.0  38.666667   7.505553  30.0   \n",
       "Ciencias de la Educación                  13.0  26.153846   7.925130  17.0   \n",
       "Comercio Internacional                     7.0  28.857143  10.056981  20.0   \n",
       "Contaduría Pública                        13.0  29.461538   7.676972  17.0   \n",
       "Derecho                                   33.0  32.515152   6.524575  20.0   \n",
       "Economía                                   4.0  28.250000   7.847505  24.0   \n",
       "Educación Parvularia                       3.0  32.333333   4.041452  30.0   \n",
       "Gestión Turística y Hotelera               5.0  23.800000   3.898718  19.0   \n",
       "Historia                                   2.0  25.000000   7.071068  20.0   \n",
       "Ingeniería Agronómica                      6.0  27.166667   6.911343  20.0   \n",
       "Ingeniería de Sistemas                    56.0  26.375000   7.533109  18.0   \n",
       "Lingüística e Idiomas                      8.0  34.250000  12.464235  19.0   \n",
       "Nutrición y Dietética                      2.0  31.500000   4.949747  28.0   \n",
       "Otra                                      26.0  24.192308   4.463355  17.0   \n",
       "Psicología                                13.0  33.076923   6.277759  21.0   \n",
       "Sociología                                 1.0  28.000000        NaN  28.0   \n",
       "Trabajo Social                             8.0  23.875000   4.517822  17.0   \n",
       "\n",
       "                                                                    \n",
       "                                            25%   50%    75%   max  \n",
       "carrera                                                             \n",
       "Administración de Empresas                21.75  25.5  29.00  32.0  \n",
       "Artes Plásticas                           25.00  30.0  35.00  40.0  \n",
       "Ciencias Físicas y Energías Alternativas  25.00  25.5  30.00  33.0  \n",
       "Ciencias Políticas                        36.50  43.0  43.00  43.0  \n",
       "Ciencias de la Educación                  20.00  25.0  30.00  46.0  \n",
       "Comercio Internacional                    22.50  23.0  33.50  47.0  \n",
       "Contaduría Pública                        24.00  29.0  35.00  41.0  \n",
       "Derecho                                   28.00  33.0  37.00  49.0  \n",
       "Economía                                  24.00  24.5  28.75  40.0  \n",
       "Educación Parvularia                      30.00  30.0  33.50  37.0  \n",
       "Gestión Turística y Hotelera              21.00  25.0  25.00  29.0  \n",
       "Historia                                  22.50  25.0  27.50  30.0  \n",
       "Ingeniería Agronómica                     23.00  24.5  31.25  38.0  \n",
       "Ingeniería de Sistemas                    20.00  23.5  33.00  45.0  \n",
       "Lingüística e Idiomas                     24.75  32.5  40.25  54.0  \n",
       "Nutrición y Dietética                     29.75  31.5  33.25  35.0  \n",
       "Otra                                      20.25  23.5  28.00  31.0  \n",
       "Psicología                                30.00  32.0  37.00  45.0  \n",
       "Sociología                                28.00  28.0  28.00  28.0  \n",
       "Trabajo Social                            21.50  23.5  26.25  30.0  "
      ]
     },
     "execution_count": 182,
     "metadata": {},
     "output_type": "execute_result"
    }
   ],
   "source": [
    "grupo_carrera = data.groupby('carrera')\n",
    "grupo_carrera.describe()"
   ]
  },
  {
   "cell_type": "code",
   "execution_count": null,
   "id": "281cff2f",
   "metadata": {},
   "outputs": [
    {
     "data": {
      "text/plain": [
       "array([20, 26, 18, 39, 25, 32, 21, 22, 19, 24, 28, 30, 35, 34, 46, 29, 36,\n",
       "       33, 45, 23, 27, 38, 50, 31, 42, 40, 17, 37, 49, 41, 54, 47, 43],\n",
       "      dtype=int64)"
      ]
     },
     "execution_count": 189,
     "metadata": {},
     "output_type": "execute_result"
    }
   ],
   "source": [
    "#listar las edades de los estudiantes que decidieron estudiar virtual\n",
    "\n",
    "pd.unique(data['edad'])"
   ]
  },
  {
   "cell_type": "code",
   "execution_count": null,
   "id": "20c9bc1e",
   "metadata": {},
   "outputs": [],
   "source": [
    "data.sort_values(by='edad',ascending=False)[['time','acepta','edad']].head(20)"
   ]
  },
  {
   "cell_type": "code",
   "execution_count": null,
   "id": "b8edd843",
   "metadata": {},
   "outputs": [
    {
     "name": "stdout",
     "output_type": "stream",
     "text": [
      "Número de hombres que aceptaron estudiar virtualmente: 114\n",
      "Número de mujeres que aceptaron estudiar virtualmente: 98\n"
     ]
    }
   ],
   "source": [
    "## estadistica para sacar  el numero de hombre y mujeres que aceptaron\n",
    "num_hombres = data[(data['sexo'] == 'Hombre') & (data['acepta'] == 'Si')].shape[0]\n",
    "num_mujeres = data[(data['sexo'] == 'Mujer') & (data['acepta'] == 'Si')].shape[0]\n",
    "\n",
    "print('Número de hombres que aceptaron estudiar virtualmente:', num_hombres)\n",
    "print('Número de mujeres que aceptaron estudiar virtualmente:', num_mujeres)"
   ]
  },
  {
   "cell_type": "code",
   "execution_count": null,
   "id": "da694c47",
   "metadata": {},
   "outputs": [
    {
     "name": "stdout",
     "output_type": "stream",
     "text": [
      "Número de hombres que no aceptaron estudiar virtualmente: 6\n",
      "Número de mujeres que  noaceptaron estudiar virtualmente: 4\n"
     ]
    }
   ],
   "source": [
    "num_hombres = data[(data['sexo'] == 'Hombre') & (data['acepta'] == 'No')].shape[0]\n",
    "num_mujeres = data[(data['sexo'] == 'Mujer') & (data['acepta'] == 'No')].shape[0]\n",
    "\n",
    "print('Número de hombres que no aceptaron estudiar virtualmente:', num_hombres)\n",
    "print('Número de mujeres que  noaceptaron estudiar virtualmente:', num_mujeres)"
   ]
  },
  {
   "cell_type": "code",
   "execution_count": null,
   "id": "277f91a6",
   "metadata": {},
   "outputs": [],
   "source": [
    "# Agrupar por género y carrera y contar el número de estudiantes en cada grupo\n",
    "estudiantes_por_genero_y_carrera = data.groupby(['sexo', 'carrera'])['edad'].count()\n",
    "\n",
    "# Imprimir el resultado\n",
    "print(estudiantes_por_genero_y_carrera)"
   ]
  },
  {
   "cell_type": "code",
   "execution_count": null,
   "id": "a6ea1fd8",
   "metadata": {},
   "outputs": [
    {
     "name": "stdout",
     "output_type": "stream",
     "text": [
      "La carrera más popular entre los estudiantes es: Ingeniería de Sistemas\n"
     ]
    }
   ],
   "source": [
    "#cual es la carrera mas popular entre los estudiantes\n",
    "# Contar la cantidad de veces que aparece cada carrera\n",
    "carreras_populares = data['carrera'].value_counts()\n",
    "\n",
    "# Obtener el nombre de la carrera más popular\n",
    "carrera_mas_popular = carreras_populares.idxmax()\n",
    "\n",
    "# Imprimir el resultado\n",
    "print(\"La carrera más popular entre los estudiantes es:\", carrera_mas_popular)"
   ]
  },
  {
   "cell_type": "code",
   "execution_count": null,
   "id": "e28fca9f",
   "metadata": {},
   "outputs": [
    {
     "ename": "NameError",
     "evalue": "name 'pd' is not defined",
     "output_type": "error",
     "traceback": [
      "\u001b[1;31m---------------------------------------------------------------------------\u001b[0m",
      "\u001b[1;31mNameError\u001b[0m                                 Traceback (most recent call last)",
      "\u001b[1;32m~\\AppData\\Local\\Temp\\ipykernel_19484\\4130647457.py\u001b[0m in \u001b[0;36m<module>\u001b[1;34m\u001b[0m\n\u001b[0;32m      2\u001b[0m \u001b[1;33m\u001b[0m\u001b[0m\n\u001b[0;32m      3\u001b[0m \u001b[1;31m# Crear tabla de contingencia\u001b[0m\u001b[1;33m\u001b[0m\u001b[1;33m\u001b[0m\u001b[0m\n\u001b[1;32m----> 4\u001b[1;33m \u001b[0mtable\u001b[0m \u001b[1;33m=\u001b[0m \u001b[0mpd\u001b[0m\u001b[1;33m.\u001b[0m\u001b[0mcrosstab\u001b[0m\u001b[1;33m(\u001b[0m\u001b[0mdata\u001b[0m\u001b[1;33m[\u001b[0m\u001b[1;34m'carrera'\u001b[0m\u001b[1;33m]\u001b[0m\u001b[1;33m,\u001b[0m \u001b[0mdata\u001b[0m\u001b[1;33m[\u001b[0m\u001b[1;34m'sexo'\u001b[0m\u001b[1;33m]\u001b[0m\u001b[1;33m)\u001b[0m\u001b[1;33m\u001b[0m\u001b[1;33m\u001b[0m\u001b[0m\n\u001b[0m",
      "\u001b[1;31mNameError\u001b[0m: name 'pd' is not defined"
     ]
    }
   ],
   "source": [
    "#¿Hay alguna relación entre el género y la elección de carrera?\n",
    "\n",
    "# Crear tabla de contingencia\n",
    "table = pd.crosstab(data['carrera'], data['sexo'])"
   ]
  },
  {
   "cell_type": "code",
   "execution_count": null,
   "id": "24f0d087",
   "metadata": {},
   "outputs": [
    {
     "ename": "NameError",
     "evalue": "name 'table' is not defined",
     "output_type": "error",
     "traceback": [
      "\u001b[1;31m---------------------------------------------------------------------------\u001b[0m",
      "\u001b[1;31mNameError\u001b[0m                                 Traceback (most recent call last)",
      "\u001b[1;32m~\\AppData\\Local\\Temp\\ipykernel_19484\\3944265273.py\u001b[0m in \u001b[0;36m<module>\u001b[1;34m\u001b[0m\n\u001b[0;32m      2\u001b[0m \u001b[1;33m\u001b[0m\u001b[0m\n\u001b[0;32m      3\u001b[0m \u001b[1;31m# Realizar prueba de chi-cuadrado\u001b[0m\u001b[1;33m\u001b[0m\u001b[1;33m\u001b[0m\u001b[0m\n\u001b[1;32m----> 4\u001b[1;33m \u001b[0mchi2\u001b[0m\u001b[1;33m,\u001b[0m \u001b[0mpval\u001b[0m\u001b[1;33m,\u001b[0m \u001b[0mdof\u001b[0m\u001b[1;33m,\u001b[0m \u001b[0mexpected\u001b[0m \u001b[1;33m=\u001b[0m \u001b[0mchi2_contingency\u001b[0m\u001b[1;33m(\u001b[0m\u001b[0mtable\u001b[0m\u001b[1;33m)\u001b[0m\u001b[1;33m\u001b[0m\u001b[1;33m\u001b[0m\u001b[0m\n\u001b[0m",
      "\u001b[1;31mNameError\u001b[0m: name 'table' is not defined"
     ]
    }
   ],
   "source": [
    "from scipy.stats import chi2_contingency\n",
    "\n",
    "# Realizar prueba de chi-cuadrado\n",
    "chi2, pval, dof, expected = chi2_contingency(table)"
   ]
  },
  {
   "cell_type": "code",
   "execution_count": null,
   "id": "c6f73502",
   "metadata": {},
   "outputs": [
    {
     "ename": "NameError",
     "evalue": "name 'table' is not defined",
     "output_type": "error",
     "traceback": [
      "\u001b[1;31m---------------------------------------------------------------------------\u001b[0m",
      "\u001b[1;31mNameError\u001b[0m                                 Traceback (most recent call last)",
      "\u001b[1;32m~\\AppData\\Local\\Temp\\ipykernel_19484\\3617221014.py\u001b[0m in \u001b[0;36m<module>\u001b[1;34m\u001b[0m\n\u001b[1;32m----> 1\u001b[1;33m \u001b[0mtable\u001b[0m\u001b[1;33m\u001b[0m\u001b[1;33m\u001b[0m\u001b[0m\n\u001b[0m",
      "\u001b[1;31mNameError\u001b[0m: name 'table' is not defined"
     ]
    }
   ],
   "source": [
    "table"
   ]
  },
  {
   "cell_type": "markdown",
   "id": "04886525",
   "metadata": {},
   "source": [
    "## es resultado es una tabla de contigencia que nos muestra la cantidad de estudiantes de cada genero que han elegido cada carrera"
   ]
  },
  {
   "cell_type": "markdown",
   "id": "c02d9ddf",
   "metadata": {},
   "source": [
    "ejmplo podemos ver que 42 hombres y 14 mujeres se han matriculado en Ingenieria de sistemas, lo que indica que esta carrera es muy popular\n"
   ]
  },
  {
   "cell_type": "markdown",
   "id": "15abf2e5",
   "metadata": {},
   "source": [
    " por otro lado podemos obaservar que mas mujeres  que hombres matriculados en contaduria Publica y ciencia de la Educacion."
   ]
  },
  {
   "cell_type": "markdown",
   "id": "360021e5",
   "metadata": {},
   "source": [
    "En resumen, podemos usar esta tabla para analizar la relación entre el género y la elección de carrera, y podemos concluir que hay algunas carreras que son más populares entre un género en particular."
   ]
  },
  {
   "cell_type": "code",
   "execution_count": null,
   "id": "ce728ad8",
   "metadata": {},
   "outputs": [],
   "source": [
    "\n",
    "# crear tabla de contingencia\n",
    "tabla_contingencia = pd.crosstab(data['negativo'], data['carrera'])\n",
    "\n",
    "# calcular porcentajes por fila\n",
    "tabla_contingencia_porcentajes = tabla_contingencia.div(tabla_contingencia.sum(axis=1), axis=0) * 100\n",
    "\n",
    "print(tabla_contingencia_porcentajes)\n"
   ]
  },
  {
   "cell_type": "markdown",
   "id": "29538850",
   "metadata": {},
   "source": [
    "Es una matrix de datos,que muestra la frecuencia de respuestas negativas de estudiantes en diferentes carreras a tres posibles problemas\n"
   ]
  },
  {
   "cell_type": "markdown",
   "id": "91afc0bb",
   "metadata": {},
   "source": [
    "##4.Enriquecimiento de los datos con otros datasets (Mínimo 1 adicional). Combinar diferentes fuentes de información con funciones tipo (Merge) por Ejemplo si tenemos una base de datos de Diabetes y tenemos el municipio o el departamento buscar Un dataset por ejemplo del DANE que nos relacione el PIB por departamento y nos permita hacer análisis exploratorio (si es posible pruebas de hipótesis) sobre si el PIB del departamento encontrado infiere con que incremente o se reduzca la cantidad de personas con esta enfermedad"
   ]
  },
  {
   "cell_type": "markdown",
   "id": "17ebcb3e",
   "metadata": {},
   "source": [
    "mport pandas as pd\n"
   ]
  },
  {
   "cell_type": "code",
   "execution_count": null,
   "id": "10f593e6",
   "metadata": {},
   "outputs": [
    {
     "data": {
      "text/html": [
       "<div>\n",
       "<style scoped>\n",
       "    .dataframe tbody tr th:only-of-type {\n",
       "        vertical-align: middle;\n",
       "    }\n",
       "\n",
       "    .dataframe tbody tr th {\n",
       "        vertical-align: top;\n",
       "    }\n",
       "\n",
       "    .dataframe thead th {\n",
       "        text-align: right;\n",
       "    }\n",
       "</style>\n",
       "<table border=\"1\" class=\"dataframe\">\n",
       "  <thead>\n",
       "    <tr style=\"text-align: right;\">\n",
       "      <th></th>\n",
       "      <th>Unnamed: 0</th>\n",
       "      <th>time</th>\n",
       "      <th>carrera</th>\n",
       "      <th>acepta</th>\n",
       "      <th>positivo</th>\n",
       "      <th>negativo</th>\n",
       "      <th>edad</th>\n",
       "      <th>sexo</th>\n",
       "      <th>trabajo</th>\n",
       "    </tr>\n",
       "  </thead>\n",
       "  <tbody>\n",
       "    <tr>\n",
       "      <th>0</th>\n",
       "      <td>0</td>\n",
       "      <td>2020-11-08</td>\n",
       "      <td>Ingeniería de Sistemas</td>\n",
       "      <td>Si</td>\n",
       "      <td>Horario flexible.</td>\n",
       "      <td>Contacto Personal Docente-Estudiantil.</td>\n",
       "      <td>20</td>\n",
       "      <td>Hombre</td>\n",
       "      <td>Eventual</td>\n",
       "    </tr>\n",
       "    <tr>\n",
       "      <th>1</th>\n",
       "      <td>1</td>\n",
       "      <td>2020-11-08</td>\n",
       "      <td>Psicología</td>\n",
       "      <td>Si</td>\n",
       "      <td>Acceso desde cualquier lugar.</td>\n",
       "      <td>Contacto Personal Docente-Estudiantil.</td>\n",
       "      <td>26</td>\n",
       "      <td>Hombre</td>\n",
       "      <td>Eventual</td>\n",
       "    </tr>\n",
       "    <tr>\n",
       "      <th>2</th>\n",
       "      <td>2</td>\n",
       "      <td>2020-11-08</td>\n",
       "      <td>Ingeniería de Sistemas</td>\n",
       "      <td>Si</td>\n",
       "      <td>Horario flexible.</td>\n",
       "      <td>Falta de recursos de calidad(plataformas, doce...</td>\n",
       "      <td>20</td>\n",
       "      <td>Mujer</td>\n",
       "      <td>Sí</td>\n",
       "    </tr>\n",
       "    <tr>\n",
       "      <th>3</th>\n",
       "      <td>3</td>\n",
       "      <td>2020-11-08</td>\n",
       "      <td>Ingeniería de Sistemas</td>\n",
       "      <td>Si</td>\n",
       "      <td>Horario flexible.</td>\n",
       "      <td>Conexión a internet.</td>\n",
       "      <td>18</td>\n",
       "      <td>Mujer</td>\n",
       "      <td>No</td>\n",
       "    </tr>\n",
       "    <tr>\n",
       "      <th>4</th>\n",
       "      <td>4</td>\n",
       "      <td>2020-11-08</td>\n",
       "      <td>Ingeniería de Sistemas</td>\n",
       "      <td>Si</td>\n",
       "      <td>Acceso desde cualquier lugar.</td>\n",
       "      <td>Contacto Personal Docente-Estudiantil.</td>\n",
       "      <td>39</td>\n",
       "      <td>Hombre</td>\n",
       "      <td>Sí</td>\n",
       "    </tr>\n",
       "  </tbody>\n",
       "</table>\n",
       "</div>"
      ],
      "text/plain": [
       "   Unnamed: 0        time                 carrera acepta  \\\n",
       "0           0  2020-11-08  Ingeniería de Sistemas     Si   \n",
       "1           1  2020-11-08              Psicología     Si   \n",
       "2           2  2020-11-08  Ingeniería de Sistemas     Si   \n",
       "3           3  2020-11-08  Ingeniería de Sistemas     Si   \n",
       "4           4  2020-11-08  Ingeniería de Sistemas     Si   \n",
       "\n",
       "                        positivo  \\\n",
       "0              Horario flexible.   \n",
       "1  Acceso desde cualquier lugar.   \n",
       "2              Horario flexible.   \n",
       "3              Horario flexible.   \n",
       "4  Acceso desde cualquier lugar.   \n",
       "\n",
       "                                            negativo  edad    sexo   trabajo  \n",
       "0             Contacto Personal Docente-Estudiantil.    20  Hombre  Eventual  \n",
       "1             Contacto Personal Docente-Estudiantil.    26  Hombre  Eventual  \n",
       "2  Falta de recursos de calidad(plataformas, doce...    20   Mujer        Sí  \n",
       "3                               Conexión a internet.    18   Mujer        No  \n",
       "4             Contacto Personal Docente-Estudiantil.    39  Hombre        Sí  "
      ]
     },
     "execution_count": 10,
     "metadata": {},
     "output_type": "execute_result"
    }
   ],
   "source": [
    "data.head()"
   ]
  },
  {
   "cell_type": "code",
   "execution_count": null,
   "id": "6b79ca83",
   "metadata": {},
   "outputs": [
    {
     "data": {
      "text/plain": [
       "(222, 9)"
      ]
     },
     "execution_count": 14,
     "metadata": {},
     "output_type": "execute_result"
    }
   ],
   "source": [
    "data.shape"
   ]
  },
  {
   "cell_type": "code",
   "execution_count": null,
   "id": "41c6b4a9",
   "metadata": {},
   "outputs": [],
   "source": [
    "# Cargar el dataset\n",
    "dataset = pd.read_csv(\"matriculas.csv\")\n"
   ]
  },
  {
   "cell_type": "code",
   "execution_count": null,
   "id": "4d6fd14c",
   "metadata": {},
   "outputs": [
    {
     "data": {
      "text/plain": [
       "(27, 30)"
      ]
     },
     "execution_count": 9,
     "metadata": {},
     "output_type": "execute_result"
    }
   ],
   "source": [
    "dataset.shape"
   ]
  },
  {
   "cell_type": "code",
   "execution_count": null,
   "id": "c68fb4bf",
   "metadata": {},
   "outputs": [
    {
     "data": {
      "text/html": [
       "<div>\n",
       "<style scoped>\n",
       "    .dataframe tbody tr th:only-of-type {\n",
       "        vertical-align: middle;\n",
       "    }\n",
       "\n",
       "    .dataframe tbody tr th {\n",
       "        vertical-align: top;\n",
       "    }\n",
       "\n",
       "    .dataframe thead th {\n",
       "        text-align: right;\n",
       "    }\n",
       "</style>\n",
       "<table border=\"1\" class=\"dataframe\">\n",
       "  <thead>\n",
       "    <tr style=\"text-align: right;\">\n",
       "      <th></th>\n",
       "      <th>TIPO DE MATRICULA</th>\n",
       "      <th>DEPARTAMENTO</th>\n",
       "      <th>Hombres-2008</th>\n",
       "      <th>Mujeres-2008</th>\n",
       "      <th>Hombres-2009</th>\n",
       "      <th>Mujeres-2009</th>\n",
       "      <th>Hombres-2010</th>\n",
       "      <th>Mujeres-2010</th>\n",
       "      <th>Hombres-2011</th>\n",
       "      <th>Mujeres-2011</th>\n",
       "      <th>...</th>\n",
       "      <th>Hombres-2017</th>\n",
       "      <th>Mujeres-2017</th>\n",
       "      <th>Hombres-2018</th>\n",
       "      <th>Mujeres-2018</th>\n",
       "      <th>Hombres-2019</th>\n",
       "      <th>Mujeres-2019</th>\n",
       "      <th>Hombres-2020</th>\n",
       "      <th>Mujeres-2020</th>\n",
       "      <th>Hombres-2021</th>\n",
       "      <th>Mujeres-2021</th>\n",
       "    </tr>\n",
       "  </thead>\n",
       "  <tbody>\n",
       "    <tr>\n",
       "      <th>0</th>\n",
       "      <td>MATRICULADOS</td>\n",
       "      <td>Chuquisaca</td>\n",
       "      <td>17382</td>\n",
       "      <td>16313</td>\n",
       "      <td>18718</td>\n",
       "      <td>17340</td>\n",
       "      <td>20392</td>\n",
       "      <td>18835</td>\n",
       "      <td>21751</td>\n",
       "      <td>20351</td>\n",
       "      <td>...</td>\n",
       "      <td>26150</td>\n",
       "      <td>25265</td>\n",
       "      <td>26952</td>\n",
       "      <td>25813</td>\n",
       "      <td>25576</td>\n",
       "      <td>24619</td>\n",
       "      <td>24701</td>\n",
       "      <td>23735</td>\n",
       "      <td>24876</td>\n",
       "      <td>25164</td>\n",
       "    </tr>\n",
       "    <tr>\n",
       "      <th>1</th>\n",
       "      <td>MATRICULADOS</td>\n",
       "      <td>La Paz</td>\n",
       "      <td>48663</td>\n",
       "      <td>45933</td>\n",
       "      <td>50342</td>\n",
       "      <td>47726</td>\n",
       "      <td>52010</td>\n",
       "      <td>50038</td>\n",
       "      <td>53255</td>\n",
       "      <td>51952</td>\n",
       "      <td>...</td>\n",
       "      <td>68117</td>\n",
       "      <td>69062</td>\n",
       "      <td>69785</td>\n",
       "      <td>73775</td>\n",
       "      <td>70628</td>\n",
       "      <td>75952</td>\n",
       "      <td>79632</td>\n",
       "      <td>68955</td>\n",
       "      <td>71521</td>\n",
       "      <td>76881</td>\n",
       "    </tr>\n",
       "    <tr>\n",
       "      <th>2</th>\n",
       "      <td>MATRICULADOS</td>\n",
       "      <td>Cochabamba</td>\n",
       "      <td>31755</td>\n",
       "      <td>29723</td>\n",
       "      <td>30925</td>\n",
       "      <td>29319</td>\n",
       "      <td>31435</td>\n",
       "      <td>29367</td>\n",
       "      <td>33562</td>\n",
       "      <td>32686</td>\n",
       "      <td>...</td>\n",
       "      <td>43407</td>\n",
       "      <td>45346</td>\n",
       "      <td>43697</td>\n",
       "      <td>46413</td>\n",
       "      <td>42491</td>\n",
       "      <td>47004</td>\n",
       "      <td>39855</td>\n",
       "      <td>44243</td>\n",
       "      <td>43646</td>\n",
       "      <td>49000</td>\n",
       "    </tr>\n",
       "    <tr>\n",
       "      <th>3</th>\n",
       "      <td>MATRICULADOS</td>\n",
       "      <td>Oruro</td>\n",
       "      <td>11536</td>\n",
       "      <td>8480</td>\n",
       "      <td>11718</td>\n",
       "      <td>8683</td>\n",
       "      <td>12116</td>\n",
       "      <td>9013</td>\n",
       "      <td>12642</td>\n",
       "      <td>9406</td>\n",
       "      <td>...</td>\n",
       "      <td>14690</td>\n",
       "      <td>11556</td>\n",
       "      <td>14839</td>\n",
       "      <td>11607</td>\n",
       "      <td>15013</td>\n",
       "      <td>11936</td>\n",
       "      <td>15344</td>\n",
       "      <td>12370</td>\n",
       "      <td>16523</td>\n",
       "      <td>13654</td>\n",
       "    </tr>\n",
       "    <tr>\n",
       "      <th>4</th>\n",
       "      <td>MATRICULADOS</td>\n",
       "      <td>Potosí</td>\n",
       "      <td>10791</td>\n",
       "      <td>10195</td>\n",
       "      <td>10610</td>\n",
       "      <td>9819</td>\n",
       "      <td>10745</td>\n",
       "      <td>10001</td>\n",
       "      <td>10611</td>\n",
       "      <td>10340</td>\n",
       "      <td>...</td>\n",
       "      <td>15224</td>\n",
       "      <td>15986</td>\n",
       "      <td>15446</td>\n",
       "      <td>15912</td>\n",
       "      <td>14097</td>\n",
       "      <td>14676</td>\n",
       "      <td>13781</td>\n",
       "      <td>14622</td>\n",
       "      <td>16755</td>\n",
       "      <td>18025</td>\n",
       "    </tr>\n",
       "  </tbody>\n",
       "</table>\n",
       "<p>5 rows × 30 columns</p>\n",
       "</div>"
      ],
      "text/plain": [
       "  TIPO DE MATRICULA DEPARTAMENTO  Hombres-2008  Mujeres-2008  Hombres-2009  \\\n",
       "0      MATRICULADOS   Chuquisaca         17382         16313         18718   \n",
       "1      MATRICULADOS       La Paz         48663         45933         50342   \n",
       "2      MATRICULADOS   Cochabamba         31755         29723         30925   \n",
       "3      MATRICULADOS        Oruro         11536          8480         11718   \n",
       "4      MATRICULADOS       Potosí         10791         10195         10610   \n",
       "\n",
       "   Mujeres-2009  Hombres-2010  Mujeres-2010  Hombres-2011  Mujeres-2011  ...  \\\n",
       "0         17340         20392         18835         21751         20351  ...   \n",
       "1         47726         52010         50038         53255         51952  ...   \n",
       "2         29319         31435         29367         33562         32686  ...   \n",
       "3          8683         12116          9013         12642          9406  ...   \n",
       "4          9819         10745         10001         10611         10340  ...   \n",
       "\n",
       "   Hombres-2017  Mujeres-2017  Hombres-2018  Mujeres-2018  Hombres-2019  \\\n",
       "0         26150         25265         26952         25813         25576   \n",
       "1         68117         69062         69785         73775         70628   \n",
       "2         43407         45346         43697         46413         42491   \n",
       "3         14690         11556         14839         11607         15013   \n",
       "4         15224         15986         15446         15912         14097   \n",
       "\n",
       "   Mujeres-2019  Hombres-2020  Mujeres-2020  Hombres-2021  Mujeres-2021  \n",
       "0         24619         24701         23735         24876         25164  \n",
       "1         75952         79632         68955         71521         76881  \n",
       "2         47004         39855         44243         43646         49000  \n",
       "3         11936         15344         12370         16523         13654  \n",
       "4         14676         13781         14622         16755         18025  \n",
       "\n",
       "[5 rows x 30 columns]"
      ]
     },
     "execution_count": 10,
     "metadata": {},
     "output_type": "execute_result"
    }
   ],
   "source": [
    "dataset.head()"
   ]
  },
  {
   "cell_type": "code",
   "execution_count": null,
   "id": "947e4ce0",
   "metadata": {},
   "outputs": [],
   "source": [
    "#Unir dos Daframe\n",
    "data = pd.read_csv(\"ModalidadVirtual.csv\")"
   ]
  },
  {
   "cell_type": "code",
   "execution_count": null,
   "id": "f90271ed",
   "metadata": {},
   "outputs": [
    {
     "data": {
      "text/html": [
       "<div>\n",
       "<style scoped>\n",
       "    .dataframe tbody tr th:only-of-type {\n",
       "        vertical-align: middle;\n",
       "    }\n",
       "\n",
       "    .dataframe tbody tr th {\n",
       "        vertical-align: top;\n",
       "    }\n",
       "\n",
       "    .dataframe thead th {\n",
       "        text-align: right;\n",
       "    }\n",
       "</style>\n",
       "<table border=\"1\" class=\"dataframe\">\n",
       "  <thead>\n",
       "    <tr style=\"text-align: right;\">\n",
       "      <th></th>\n",
       "      <th>Unnamed: 0</th>\n",
       "      <th>time</th>\n",
       "      <th>carrera</th>\n",
       "      <th>acepta</th>\n",
       "      <th>positivo</th>\n",
       "      <th>negativo</th>\n",
       "      <th>edad</th>\n",
       "      <th>sexo</th>\n",
       "      <th>trabajo</th>\n",
       "    </tr>\n",
       "  </thead>\n",
       "  <tbody>\n",
       "    <tr>\n",
       "      <th>0</th>\n",
       "      <td>0</td>\n",
       "      <td>2020-11-08</td>\n",
       "      <td>Ingeniería de Sistemas</td>\n",
       "      <td>Si</td>\n",
       "      <td>Horario flexible.</td>\n",
       "      <td>Contacto Personal Docente-Estudiantil.</td>\n",
       "      <td>20</td>\n",
       "      <td>Hombre</td>\n",
       "      <td>Eventual</td>\n",
       "    </tr>\n",
       "    <tr>\n",
       "      <th>1</th>\n",
       "      <td>1</td>\n",
       "      <td>2020-11-08</td>\n",
       "      <td>Psicología</td>\n",
       "      <td>Si</td>\n",
       "      <td>Acceso desde cualquier lugar.</td>\n",
       "      <td>Contacto Personal Docente-Estudiantil.</td>\n",
       "      <td>26</td>\n",
       "      <td>Hombre</td>\n",
       "      <td>Eventual</td>\n",
       "    </tr>\n",
       "    <tr>\n",
       "      <th>2</th>\n",
       "      <td>2</td>\n",
       "      <td>2020-11-08</td>\n",
       "      <td>Ingeniería de Sistemas</td>\n",
       "      <td>Si</td>\n",
       "      <td>Horario flexible.</td>\n",
       "      <td>Falta de recursos de calidad(plataformas, doce...</td>\n",
       "      <td>20</td>\n",
       "      <td>Mujer</td>\n",
       "      <td>Sí</td>\n",
       "    </tr>\n",
       "    <tr>\n",
       "      <th>3</th>\n",
       "      <td>3</td>\n",
       "      <td>2020-11-08</td>\n",
       "      <td>Ingeniería de Sistemas</td>\n",
       "      <td>Si</td>\n",
       "      <td>Horario flexible.</td>\n",
       "      <td>Conexión a internet.</td>\n",
       "      <td>18</td>\n",
       "      <td>Mujer</td>\n",
       "      <td>No</td>\n",
       "    </tr>\n",
       "    <tr>\n",
       "      <th>4</th>\n",
       "      <td>4</td>\n",
       "      <td>2020-11-08</td>\n",
       "      <td>Ingeniería de Sistemas</td>\n",
       "      <td>Si</td>\n",
       "      <td>Acceso desde cualquier lugar.</td>\n",
       "      <td>Contacto Personal Docente-Estudiantil.</td>\n",
       "      <td>39</td>\n",
       "      <td>Hombre</td>\n",
       "      <td>Sí</td>\n",
       "    </tr>\n",
       "  </tbody>\n",
       "</table>\n",
       "</div>"
      ],
      "text/plain": [
       "   Unnamed: 0        time                 carrera acepta  \\\n",
       "0           0  2020-11-08  Ingeniería de Sistemas     Si   \n",
       "1           1  2020-11-08              Psicología     Si   \n",
       "2           2  2020-11-08  Ingeniería de Sistemas     Si   \n",
       "3           3  2020-11-08  Ingeniería de Sistemas     Si   \n",
       "4           4  2020-11-08  Ingeniería de Sistemas     Si   \n",
       "\n",
       "                        positivo  \\\n",
       "0              Horario flexible.   \n",
       "1  Acceso desde cualquier lugar.   \n",
       "2              Horario flexible.   \n",
       "3              Horario flexible.   \n",
       "4  Acceso desde cualquier lugar.   \n",
       "\n",
       "                                            negativo  edad    sexo   trabajo  \n",
       "0             Contacto Personal Docente-Estudiantil.    20  Hombre  Eventual  \n",
       "1             Contacto Personal Docente-Estudiantil.    26  Hombre  Eventual  \n",
       "2  Falta de recursos de calidad(plataformas, doce...    20   Mujer        Sí  \n",
       "3                               Conexión a internet.    18   Mujer        No  \n",
       "4             Contacto Personal Docente-Estudiantil.    39  Hombre        Sí  "
      ]
     },
     "execution_count": 40,
     "metadata": {},
     "output_type": "execute_result"
    }
   ],
   "source": [
    "data.head(5)"
   ]
  },
  {
   "cell_type": "code",
   "execution_count": null,
   "id": "5b9026c5",
   "metadata": {},
   "outputs": [],
   "source": [
    "##segundo daframe\n",
    "dataset = pd.read_csv(\"matriculas.csv\")"
   ]
  },
  {
   "cell_type": "code",
   "execution_count": null,
   "id": "503dea33",
   "metadata": {},
   "outputs": [
    {
     "data": {
      "text/html": [
       "<div>\n",
       "<style scoped>\n",
       "    .dataframe tbody tr th:only-of-type {\n",
       "        vertical-align: middle;\n",
       "    }\n",
       "\n",
       "    .dataframe tbody tr th {\n",
       "        vertical-align: top;\n",
       "    }\n",
       "\n",
       "    .dataframe thead th {\n",
       "        text-align: right;\n",
       "    }\n",
       "</style>\n",
       "<table border=\"1\" class=\"dataframe\">\n",
       "  <thead>\n",
       "    <tr style=\"text-align: right;\">\n",
       "      <th></th>\n",
       "      <th>TIPO DE MATRICULA</th>\n",
       "      <th>DEPARTAMENTO</th>\n",
       "      <th>Hombres-2008</th>\n",
       "      <th>Mujeres-2008</th>\n",
       "      <th>Hombres-2009</th>\n",
       "      <th>Mujeres-2009</th>\n",
       "      <th>Hombres-2010</th>\n",
       "      <th>Mujeres-2010</th>\n",
       "      <th>Hombres-2011</th>\n",
       "      <th>Mujeres-2011</th>\n",
       "      <th>...</th>\n",
       "      <th>Hombres-2017</th>\n",
       "      <th>Mujeres-2017</th>\n",
       "      <th>Hombres-2018</th>\n",
       "      <th>Mujeres-2018</th>\n",
       "      <th>Hombres-2019</th>\n",
       "      <th>Mujeres-2019</th>\n",
       "      <th>Hombres-2020</th>\n",
       "      <th>Mujeres-2020</th>\n",
       "      <th>Hombres-2021</th>\n",
       "      <th>Mujeres-2021</th>\n",
       "    </tr>\n",
       "  </thead>\n",
       "  <tbody>\n",
       "    <tr>\n",
       "      <th>0</th>\n",
       "      <td>MATRICULADOS</td>\n",
       "      <td>Chuquisaca</td>\n",
       "      <td>17382</td>\n",
       "      <td>16313</td>\n",
       "      <td>18718</td>\n",
       "      <td>17340</td>\n",
       "      <td>20392</td>\n",
       "      <td>18835</td>\n",
       "      <td>21751</td>\n",
       "      <td>20351</td>\n",
       "      <td>...</td>\n",
       "      <td>26150</td>\n",
       "      <td>25265</td>\n",
       "      <td>26952</td>\n",
       "      <td>25813</td>\n",
       "      <td>25576</td>\n",
       "      <td>24619</td>\n",
       "      <td>24701</td>\n",
       "      <td>23735</td>\n",
       "      <td>24876</td>\n",
       "      <td>25164</td>\n",
       "    </tr>\n",
       "    <tr>\n",
       "      <th>1</th>\n",
       "      <td>MATRICULADOS</td>\n",
       "      <td>La Paz</td>\n",
       "      <td>48663</td>\n",
       "      <td>45933</td>\n",
       "      <td>50342</td>\n",
       "      <td>47726</td>\n",
       "      <td>52010</td>\n",
       "      <td>50038</td>\n",
       "      <td>53255</td>\n",
       "      <td>51952</td>\n",
       "      <td>...</td>\n",
       "      <td>68117</td>\n",
       "      <td>69062</td>\n",
       "      <td>69785</td>\n",
       "      <td>73775</td>\n",
       "      <td>70628</td>\n",
       "      <td>75952</td>\n",
       "      <td>79632</td>\n",
       "      <td>68955</td>\n",
       "      <td>71521</td>\n",
       "      <td>76881</td>\n",
       "    </tr>\n",
       "    <tr>\n",
       "      <th>2</th>\n",
       "      <td>MATRICULADOS</td>\n",
       "      <td>Cochabamba</td>\n",
       "      <td>31755</td>\n",
       "      <td>29723</td>\n",
       "      <td>30925</td>\n",
       "      <td>29319</td>\n",
       "      <td>31435</td>\n",
       "      <td>29367</td>\n",
       "      <td>33562</td>\n",
       "      <td>32686</td>\n",
       "      <td>...</td>\n",
       "      <td>43407</td>\n",
       "      <td>45346</td>\n",
       "      <td>43697</td>\n",
       "      <td>46413</td>\n",
       "      <td>42491</td>\n",
       "      <td>47004</td>\n",
       "      <td>39855</td>\n",
       "      <td>44243</td>\n",
       "      <td>43646</td>\n",
       "      <td>49000</td>\n",
       "    </tr>\n",
       "    <tr>\n",
       "      <th>3</th>\n",
       "      <td>MATRICULADOS</td>\n",
       "      <td>Oruro</td>\n",
       "      <td>11536</td>\n",
       "      <td>8480</td>\n",
       "      <td>11718</td>\n",
       "      <td>8683</td>\n",
       "      <td>12116</td>\n",
       "      <td>9013</td>\n",
       "      <td>12642</td>\n",
       "      <td>9406</td>\n",
       "      <td>...</td>\n",
       "      <td>14690</td>\n",
       "      <td>11556</td>\n",
       "      <td>14839</td>\n",
       "      <td>11607</td>\n",
       "      <td>15013</td>\n",
       "      <td>11936</td>\n",
       "      <td>15344</td>\n",
       "      <td>12370</td>\n",
       "      <td>16523</td>\n",
       "      <td>13654</td>\n",
       "    </tr>\n",
       "    <tr>\n",
       "      <th>4</th>\n",
       "      <td>MATRICULADOS</td>\n",
       "      <td>Potosí</td>\n",
       "      <td>10791</td>\n",
       "      <td>10195</td>\n",
       "      <td>10610</td>\n",
       "      <td>9819</td>\n",
       "      <td>10745</td>\n",
       "      <td>10001</td>\n",
       "      <td>10611</td>\n",
       "      <td>10340</td>\n",
       "      <td>...</td>\n",
       "      <td>15224</td>\n",
       "      <td>15986</td>\n",
       "      <td>15446</td>\n",
       "      <td>15912</td>\n",
       "      <td>14097</td>\n",
       "      <td>14676</td>\n",
       "      <td>13781</td>\n",
       "      <td>14622</td>\n",
       "      <td>16755</td>\n",
       "      <td>18025</td>\n",
       "    </tr>\n",
       "  </tbody>\n",
       "</table>\n",
       "<p>5 rows × 30 columns</p>\n",
       "</div>"
      ],
      "text/plain": [
       "  TIPO DE MATRICULA DEPARTAMENTO  Hombres-2008  Mujeres-2008  Hombres-2009  \\\n",
       "0      MATRICULADOS   Chuquisaca         17382         16313         18718   \n",
       "1      MATRICULADOS       La Paz         48663         45933         50342   \n",
       "2      MATRICULADOS   Cochabamba         31755         29723         30925   \n",
       "3      MATRICULADOS        Oruro         11536          8480         11718   \n",
       "4      MATRICULADOS       Potosí         10791         10195         10610   \n",
       "\n",
       "   Mujeres-2009  Hombres-2010  Mujeres-2010  Hombres-2011  Mujeres-2011  ...  \\\n",
       "0         17340         20392         18835         21751         20351  ...   \n",
       "1         47726         52010         50038         53255         51952  ...   \n",
       "2         29319         31435         29367         33562         32686  ...   \n",
       "3          8683         12116          9013         12642          9406  ...   \n",
       "4          9819         10745         10001         10611         10340  ...   \n",
       "\n",
       "   Hombres-2017  Mujeres-2017  Hombres-2018  Mujeres-2018  Hombres-2019  \\\n",
       "0         26150         25265         26952         25813         25576   \n",
       "1         68117         69062         69785         73775         70628   \n",
       "2         43407         45346         43697         46413         42491   \n",
       "3         14690         11556         14839         11607         15013   \n",
       "4         15224         15986         15446         15912         14097   \n",
       "\n",
       "   Mujeres-2019  Hombres-2020  Mujeres-2020  Hombres-2021  Mujeres-2021  \n",
       "0         24619         24701         23735         24876         25164  \n",
       "1         75952         79632         68955         71521         76881  \n",
       "2         47004         39855         44243         43646         49000  \n",
       "3         11936         15344         12370         16523         13654  \n",
       "4         14676         13781         14622         16755         18025  \n",
       "\n",
       "[5 rows x 30 columns]"
      ]
     },
     "execution_count": 43,
     "metadata": {},
     "output_type": "execute_result"
    }
   ],
   "source": [
    "dataset.head(5)"
   ]
  },
  {
   "cell_type": "code",
   "execution_count": null,
   "id": "34f4ca2e",
   "metadata": {},
   "outputs": [
    {
     "name": "stdout",
     "output_type": "stream",
     "text": [
      "Empty DataFrame\n",
      "Columns: [carrera, DEPARTAMENTO]\n",
      "Index: []\n"
     ]
    }
   ],
   "source": [
    "print(comparacion)"
   ]
  },
  {
   "cell_type": "code",
   "execution_count": null,
   "id": "5efc7419",
   "metadata": {},
   "outputs": [],
   "source": [
    "# Renombrar la columna de \"TIPO DE MATRICULA\" a \"carrera\" en la segunda base de datos\n",
    "dataset = dataset.rename(columns={\"TIPO DE MATRICULA\": \"carrera\"})"
   ]
  },
  {
   "cell_type": "code",
   "execution_count": null,
   "id": "003b3ab5",
   "metadata": {},
   "outputs": [],
   "source": [
    "# Fusionar las dos bases de datos por la columna \"carrera\"\n",
    "df_merged = pd.merge(data, dataset, on=\"carrera\")\n"
   ]
  },
  {
   "cell_type": "code",
   "execution_count": null,
   "id": "42e0555d",
   "metadata": {},
   "outputs": [],
   "source": [
    "# Seleccionar las columnas de interés\n",
    "comparacion = df_merged[[\"positivo\", \"DEPARTAMENTO\"]]"
   ]
  },
  {
   "cell_type": "code",
   "execution_count": null,
   "id": "03928b36",
   "metadata": {},
   "outputs": [
    {
     "name": "stdout",
     "output_type": "stream",
     "text": [
      "Empty DataFrame\n",
      "Columns: [carrera, Mujeres-2021]\n",
      "Index: []\n"
     ]
    }
   ],
   "source": [
    "# Imprimir la tabla comparativa\n",
    "print(comparacion)"
   ]
  },
  {
   "cell_type": "code",
   "execution_count": null,
   "id": "ba301d62",
   "metadata": {},
   "outputs": [],
   "source": []
  },
  {
   "cell_type": "code",
   "execution_count": null,
   "id": "1528b974",
   "metadata": {},
   "outputs": [],
   "source": [
    "# cargar los datos del primer dataset\n",
    "data = pd.read_csv(\"ModalidadVirtual.csv\")\n"
   ]
  },
  {
   "cell_type": "code",
   "execution_count": null,
   "id": "3a500591",
   "metadata": {},
   "outputs": [],
   "source": [
    "# cargar los datos del segundo dataset\n",
    "dataset = pd.read_csv(\"matriculas.csv\")"
   ]
  },
  {
   "cell_type": "code",
   "execution_count": null,
   "id": "7d42ee68",
   "metadata": {},
   "outputs": [
    {
     "data": {
      "text/plain": [
       "array(['Ingeniería de Sistemas', 'Psicología', 'Ciencias de la Educación',\n",
       "       'Ciencias Físicas y Energías Alternativas', 'Contaduría Pública',\n",
       "       'Administración de Empresas', 'Derecho', 'Historia',\n",
       "       'Trabajo Social', 'Artes Plásticas', 'Lingüística e Idiomas',\n",
       "       'Economía', 'Otra', 'Gestión Turística y Hotelera',\n",
       "       'Ingeniería Agronómica', 'Comercio Internacional',\n",
       "       'Nutrición y Dietética', 'Ciencias Políticas',\n",
       "       'Educación Parvularia', 'Sociología'], dtype=object)"
      ]
     },
     "execution_count": 40,
     "metadata": {},
     "output_type": "execute_result"
    }
   ],
   "source": [
    "data[\"carrera\"].unique()"
   ]
  },
  {
   "cell_type": "code",
   "execution_count": null,
   "id": "6d28ec92",
   "metadata": {},
   "outputs": [
    {
     "name": "stdout",
     "output_type": "stream",
     "text": [
      "['Hombre' 'Mujer']\n"
     ]
    }
   ],
   "source": [
    "unique_values = data[\"sexo\"].unique()\n",
    "print(unique_values)"
   ]
  },
  {
   "cell_type": "code",
   "execution_count": null,
   "id": "1b85c157",
   "metadata": {},
   "outputs": [
    {
     "data": {
      "text/plain": [
       "array(['MATRICULADOS', 'MATRÍCULA NUEVA', 'MATRÍCULA ANTIGUA'],\n",
       "      dtype=object)"
      ]
     },
     "execution_count": 51,
     "metadata": {},
     "output_type": "execute_result"
    }
   ],
   "source": [
    "dataset[\"TIPO DE MATRICULA\"].unique()"
   ]
  },
  {
   "cell_type": "code",
   "execution_count": null,
   "id": "1c00112f",
   "metadata": {},
   "outputs": [],
   "source": [
    "# hacer el merge utilizando las columnas \"trabajo\" y \"DEPARTAMENTO\"\n",
    "merged_df = pd.merge(data, dataset, left_on=\"positov\", right_on=\"TIPO DE MATRICULA\")"
   ]
  },
  {
   "cell_type": "code",
   "execution_count": null,
   "id": "753e6fd5",
   "metadata": {},
   "outputs": [
    {
     "name": "stdout",
     "output_type": "stream",
     "text": [
      "Empty DataFrame\n",
      "Columns: [Unnamed: 0, time, carrera, acepta, positivo, negativo, edad, sexo, trabajo, TIPO DE MATRICULA, DEPARTAMENTO, Hombres-2008, Mujeres-2008, Hombres-2009, Mujeres-2009, Hombres-2010, Mujeres-2010, Hombres-2011, Mujeres-2011, Hombres-2012, Mujeres-2012, Hombres-2013, Mujeres-2013, Hombres-2014, Mujeres-2014, Hombres-2015, Mujeres-2015, Hombres-2016, Mujeres-2016, Hombres-2017, Mujeres-2017, Hombres-2018, Mujeres-2018, Hombres-2019, Mujeres-2019, Hombres-2020, Mujeres-2020, Hombres-2021, Mujeres-2021]\n",
      "Index: []\n",
      "\n",
      "[0 rows x 39 columns]\n"
     ]
    }
   ],
   "source": [
    "# visualizar el dataframe resultante\n",
    "print(merged_df.head())"
   ]
  },
  {
   "cell_type": "markdown",
   "id": "5012cf08",
   "metadata": {},
   "source": [
    "## ESTOS VALORES NO ME SIRVEN DEBIDO A QUE  NO COINCIDEN\n",
    "\n",
    "\n",
    "Para realizar un merge entre ambos datasets, necesitas tener al menos una columna en común en ambos datasets para fusionarlos. Actualmente, los dos datasets que mencionaste no parecen tener columnas en común, lo que significa que no se pueden fusionar directamente.\n",
    "\n",
    "Si deseas fusionar los datasets, deberás buscar una columna que sea común en ambos datasets o considerar agregar información adicional a uno o ambos datasets que pueda relacionarlos de alguna manera. Si no es posible encontrar una columna común o agregar información adicional, entonces no será posible realizar un merge entre los datasets."
   ]
  },
  {
   "cell_type": "code",
   "execution_count": null,
   "id": "bb2d5b56",
   "metadata": {},
   "outputs": [],
   "source": []
  },
  {
   "cell_type": "code",
   "execution_count": null,
   "id": "44171d4c",
   "metadata": {},
   "outputs": [
    {
     "name": "stdout",
     "output_type": "stream",
     "text": [
      "Dataset de diabetes:\n",
      "  municipio  num_personas_diabetes\n",
      "0    Bogotá                   1000\n",
      "1  Medellín                    800\n",
      "2      Cali                    700\n",
      "\n",
      "Dataset de PIB:\n",
      "  departamento      PIB\n",
      "0  Bogotá D.C.  2000000\n",
      "1    Antioquia  1000000\n",
      "2        Valle   800000\n"
     ]
    }
   ],
   "source": [
    "import pandas as pd\n",
    "\n",
    "# Creamos un dataframe para el dataset de diabetes\n",
    "diabetes_data = {\n",
    "    'municipio': ['Bogotá', 'Medellín', 'Cali'],\n",
    "    'num_personas_diabetes': [1000, 800, 700]\n",
    "}\n",
    "df_diabetes = pd.DataFrame(diabetes_data)\n",
    "\n",
    "# Creamos un dataframe para el dataset de PIB\n",
    "pib_data = {\n",
    "    'departamento': ['Bogotá D.C.', 'Antioquia', 'Valle'],\n",
    "    'PIB': [2000000, 1000000, 800000]\n",
    "}\n",
    "df_pib = pd.DataFrame(pib_data)\n",
    "\n",
    "# Mostramos los dataframes creados\n",
    "print('Dataset de diabetes:')\n",
    "print(df_diabetes)\n",
    "print('\\nDataset de PIB:')\n",
    "print(df_pib)\n"
   ]
  },
  {
   "cell_type": "code",
   "execution_count": null,
   "id": "df80def2",
   "metadata": {},
   "outputs": [
    {
     "name": "stdout",
     "output_type": "stream",
     "text": [
      "data:\n",
      "  departamento      PIB\n",
      "0  Bogotá D.C.  2000000\n",
      "1    Antioquia  1000000\n",
      "2        Valle   800000\n",
      "\n",
      "dataset:\n",
      "{'departamento': ['Bogotá D.C.', 'Antioquia', 'Valle'], 'PIB': [2000000, 1000000, 800000]}\n"
     ]
    }
   ],
   "source": [
    "import pandas as pd\n",
    "\n",
    "# Dataset de diabetes\n",
    "data = {\n",
    "    'municipio': ['Bogotá', 'Medellín', 'Cali'],\n",
    "    'num_personas_diabetes': [1000, 800, 700]\n",
    "}\n",
    "\n",
    "data= pd.DataFrame(data)\n",
    "\n",
    "# Dataset de PIB\n",
    "dataset = {\n",
    "    'departamento': ['Bogotá D.C.', 'Antioquia', 'Valle'],\n",
    "    'PIB': [2000000, 1000000, 800000]\n",
    "}\n",
    "\n",
    "data = pd.DataFrame(dataset)\n",
    "\n",
    "print(\"data:\")\n",
    "print(data)\n",
    "print(\"\\ndataset:\")\n",
    "print(dataset)\n"
   ]
  },
  {
   "cell_type": "code",
   "execution_count": null,
   "id": "a3e5257f",
   "metadata": {},
   "outputs": [],
   "source": [
    "import pandas as pd\n",
    "\n",
    "# Dataset de diabetes\n",
    "data = {\n",
    "    'ca': ['Bogotá', 'Medellín', 'Cali'],\n",
    "    'num_personas_diabetes': [1000, 800, 700]\n",
    "}\n",
    "\n",
    "data= pd.DataFrame(data)\n",
    "\n",
    "# Dataset de PIB\n",
    "dataset = {\n",
    "    'departamento': ['Bogotá D.C.', 'Antioquia', 'Valle'],\n",
    "    'PIB': [2000000, 1000000, 800000]\n",
    "}\n",
    "\n",
    "data = pd.DataFrame(dataset)\n",
    "\n",
    "print(\"data:\")\n",
    "print(data)\n",
    "print(\"\\ndataset:\")\n",
    "print(dataset)\n"
   ]
  },
  {
   "cell_type": "code",
   "execution_count": null,
   "id": "9c49ef98",
   "metadata": {},
   "outputs": [],
   "source": []
  }
 ],
 "metadata": {
  "kernelspec": {
   "display_name": "Python 3 (ipykernel)",
   "language": "python",
   "name": "python3"
  },
  "language_info": {
   "codemirror_mode": {
    "name": "ipython",
    "version": 3
   },
   "file_extension": ".py",
   "mimetype": "text/x-python",
   "name": "python",
   "nbconvert_exporter": "python",
   "pygments_lexer": "ipython3",
   "version": "3.11.3"
  }
 },
 "nbformat": 4,
 "nbformat_minor": 5
}
